{
 "cells": [
  {
   "cell_type": "code",
   "execution_count": 1,
   "metadata": {},
   "outputs": [],
   "source": [
    "import findspark\n",
    "findspark.init()\n",
    "\n",
    "from pyspark.sql import SparkSession\n",
    "\n",
    "spark = SparkSession.builder.appName(\"sample\").master(\"local[*]\").getOrCreate()\n",
    "spark.conf.set(\"spark.sql.repl.eagerEval.enabled\", True)"
   ]
  },
  {
   "cell_type": "code",
   "execution_count": 2,
   "metadata": {},
   "outputs": [],
   "source": [
    "emp = spark.read.format(\"csv\").option(\"header\",\"true\").load(\"C:/Users/b2en/Downloads/Spark 실습/실습문제_20210324/data/emp.csv\")\n",
    "amt_sal = spark.read.format(\"csv\").option(\"header\",\"true\").load(\"C:/Users/b2en/Downloads/Spark 실습/실습문제_20210324/data/금액제급여.csv\")\n",
    "hobong_sal = spark.read.format(\"csv\").option(\"header\",\"true\").load(\"C:/Users/b2en/Downloads/Spark 실습/실습문제_20210324/data/호봉제급여.csv\")\n",
    "yearly_sal = spark.read.format(\"csv\").option(\"header\",\"true\").load(\"C:/Users/b2en/Downloads/Spark 실습/실습문제_20210324/data/연봉제급여.csv\")\n",
    "sal_pay = spark.read.format(\"csv\").option(\"header\",\"true\").load(\"C:/Users/b2en/Downloads/Spark 실습/실습문제_20210324/data/급여지급.csv\")\n",
    "bonus_sal = spark.read.format(\"csv\").option(\"header\",\"true\").load(\"C:/Users/b2en/Downloads/Spark 실습/실습문제_20210324/data/기타급여.csv\")\n",
    "iss_hist = spark.read.format(\"csv\").option(\"header\",\"true\").load(\"C:/Users/b2en/Downloads/Spark 실습/실습문제_20210324/data/발령이력.csv\")\n",
    "dept = spark.read.format(\"csv\").option(\"header\",\"true\").load(\"C:/Users/b2en/Downloads/Spark 실습/실습문제_20210324/data/부서.csv\")\n",
    "pjt = spark.read.format(\"csv\").option(\"header\",\"true\").load(\"C:/Users/b2en/Downloads/Spark 실습/실습문제_20210324/data/프로젝트.csv\")\n",
    "pjt_use_hist = spark.read.format(\"csv\").option(\"header\",\"true\").load(\"C:/Users/b2en/Downloads/Spark 실습/실습문제_20210324/data/프로젝트투입이력.csv\")\n",
    "vc_use_hist = spark.read.format(\"csv\").option(\"header\",\"true\").load(\"C:/Users/b2en/Downloads/Spark 실습/실습문제_20210324/data/휴가사용이력.csv\")"
   ]
  },
  {
   "cell_type": "code",
   "execution_count": 3,
   "metadata": {},
   "outputs": [],
   "source": [
    "from pyspark.sql.functions import *\n",
    "from pyspark.sql.window import *"
   ]
  },
  {
   "cell_type": "markdown",
   "metadata": {},
   "source": [
    "[1] \n",
    " - 각 사원 별 프로젝트투입횟수, 휴가사용일수를 구하시오.\n",
    " - 프로젝트에 한번이라도 투입되었거나, 휴가를 한번이라도 사용한 사원만 포함함 (휴가사용, 프로젝트 투입 경험이 없는 사원은 조회 결과에서 제외)\n",
    " - 단, 사원 테이블은 사용하지 않고 작성 (프로젝트투입이력, 휴가사용이력 테이블만 사용)\n"
   ]
  },
  {
   "cell_type": "code",
   "execution_count": 13,
   "metadata": {},
   "outputs": [],
   "source": [
    "pjt_num = pjt_use_hist.groupBy(\"사원번호\").agg(count(\"프로젝트번호\").alias(\"프로젝트투입수\"))"
   ]
  },
  {
   "cell_type": "code",
   "execution_count": 14,
   "metadata": {},
   "outputs": [
    {
     "data": {
      "text/html": [
       "<table border='1'>\n",
       "<tr><th>사원번호</th><th>프로젝트투입수</th></tr>\n",
       "<tr><td>101</td><td>2</td></tr>\n",
       "<tr><td>104</td><td>1</td></tr>\n",
       "<tr><td>102</td><td>1</td></tr>\n",
       "<tr><td>103</td><td>1</td></tr>\n",
       "<tr><td>105</td><td>1</td></tr>\n",
       "<tr><td>109</td><td>2</td></tr>\n",
       "</table>\n"
      ],
      "text/plain": [
       "+--------+--------------+\n",
       "|사원번호|프로젝트투입수|\n",
       "+--------+--------------+\n",
       "|     101|             2|\n",
       "|     104|             1|\n",
       "|     102|             1|\n",
       "|     103|             1|\n",
       "|     105|             1|\n",
       "|     109|             2|\n",
       "+--------+--------------+"
      ]
     },
     "execution_count": 14,
     "metadata": {},
     "output_type": "execute_result"
    }
   ],
   "source": [
    "pjt_num"
   ]
  },
  {
   "cell_type": "code",
   "execution_count": 17,
   "metadata": {},
   "outputs": [],
   "source": [
    "vc_num = vc_use_hist.groupBy(\"사원번호\").agg(count(\"휴가사용일자\").alias(\"휴가사용일\"))"
   ]
  },
  {
   "cell_type": "code",
   "execution_count": 18,
   "metadata": {},
   "outputs": [
    {
     "data": {
      "text/html": [
       "<table border='1'>\n",
       "<tr><th>사원번호</th><th>휴가사용일</th></tr>\n",
       "<tr><td>101</td><td>4</td></tr>\n",
       "<tr><td>102</td><td>4</td></tr>\n",
       "<tr><td>103</td><td>1</td></tr>\n",
       "<tr><td>108</td><td>1</td></tr>\n",
       "<tr><td>105</td><td>1</td></tr>\n",
       "<tr><td>109</td><td>2</td></tr>\n",
       "</table>\n"
      ],
      "text/plain": [
       "+--------+----------+\n",
       "|사원번호|휴가사용일|\n",
       "+--------+----------+\n",
       "|     101|         4|\n",
       "|     102|         4|\n",
       "|     103|         1|\n",
       "|     108|         1|\n",
       "|     105|         1|\n",
       "|     109|         2|\n",
       "+--------+----------+"
      ]
     },
     "execution_count": 18,
     "metadata": {},
     "output_type": "execute_result"
    }
   ],
   "source": [
    "vc_num"
   ]
  },
  {
   "cell_type": "code",
   "execution_count": 22,
   "metadata": {},
   "outputs": [],
   "source": [
    "homework4_1 =\\\n",
    "pjt_num.join(vc_num,pjt_num[\"사원번호\"] == vc_num[\"사원번호\"],\"full_outer\")\\\n",
    "       .where(~((pjt_num[\"프로젝트투입수\"] == 0) & (vc_num[\"사원번호\"] == 0)))\\\n",
    "       .withColumn(\"프로젝트경험여부\",when(col(\"프로젝트투입수\") >= 1,\"Y\").otherwise(\"N\"))\\\n",
    "       .withColumn(\"휴가사용여부\",when(col(\"휴가사용일\") >= 1,\"Y\").otherwise(\"N\"))\\\n",
    "       .select(coalesce(pjt_num[\"사원번호\"],vc_num[\"사원번호\"]).alias(\"사원번호\"),pjt_num[\"프로젝트투입수\"],vc_num[\"휴가사용일\"],\"프로젝트경험여부\",\"휴가사용여부\")\n",
    "#두 개의 데이터프레임을 사원번호로 full_outer 조인하고 pjt_num 사원번호가 null인부분을 vc_num사원번호로채움"
   ]
  },
  {
   "cell_type": "code",
   "execution_count": 23,
   "metadata": {},
   "outputs": [
    {
     "data": {
      "text/html": [
       "<table border='1'>\n",
       "<tr><th>사원번호</th><th>프로젝트투입수</th><th>휴가사용일</th><th>프로젝트경험여부</th><th>휴가사용여부</th></tr>\n",
       "<tr><td>101</td><td>2</td><td>4</td><td>Y</td><td>Y</td></tr>\n",
       "<tr><td>104</td><td>1</td><td>null</td><td>Y</td><td>N</td></tr>\n",
       "<tr><td>102</td><td>1</td><td>4</td><td>Y</td><td>Y</td></tr>\n",
       "<tr><td>103</td><td>1</td><td>1</td><td>Y</td><td>Y</td></tr>\n",
       "<tr><td>108</td><td>null</td><td>1</td><td>N</td><td>Y</td></tr>\n",
       "<tr><td>105</td><td>1</td><td>1</td><td>Y</td><td>Y</td></tr>\n",
       "<tr><td>109</td><td>2</td><td>2</td><td>Y</td><td>Y</td></tr>\n",
       "</table>\n"
      ],
      "text/plain": [
       "+--------+--------------+----------+----------------+------------+\n",
       "|사원번호|프로젝트투입수|휴가사용일|프로젝트경험여부|휴가사용여부|\n",
       "+--------+--------------+----------+----------------+------------+\n",
       "|     101|             2|         4|               Y|           Y|\n",
       "|     104|             1|      null|               Y|           N|\n",
       "|     102|             1|         4|               Y|           Y|\n",
       "|     103|             1|         1|               Y|           Y|\n",
       "|     108|          null|         1|               N|           Y|\n",
       "|     105|             1|         1|               Y|           Y|\n",
       "|     109|             2|         2|               Y|           Y|\n",
       "+--------+--------------+----------+----------------+------------+"
      ]
     },
     "execution_count": 23,
     "metadata": {},
     "output_type": "execute_result"
    }
   ],
   "source": [
    "homework4_1"
   ]
  },
  {
   "cell_type": "markdown",
   "metadata": {},
   "source": [
    "[2]\n",
    " - 아래 프로젝트에 투입되었던 사원을 제외한 모든 사원을 조회\n",
    "   . 제외 대상 프로젝트번호: A00, A01\n",
    " - 조회 SQL은 3가지 방법으로 각각 작성\n",
    "  1) 조인 활용\n"
   ]
  },
  {
   "cell_type": "code",
   "execution_count": 6,
   "metadata": {},
   "outputs": [],
   "source": [
    "no_00_01 = pjt_use_hist.where(col(\"프로젝트번호\").isin(\"A00\",\"A01\"))"
   ]
  },
  {
   "cell_type": "code",
   "execution_count": 7,
   "metadata": {},
   "outputs": [
    {
     "data": {
      "text/html": [
       "<table border='1'>\n",
       "<tr><th>사원번호</th><th>투입월</th><th>종료월</th><th>프로젝트번호</th></tr>\n",
       "<tr><td>101</td><td>201001</td><td>201005</td><td>A00</td></tr>\n",
       "<tr><td>101</td><td>201006</td><td>201101</td><td>A01</td></tr>\n",
       "<tr><td>109</td><td>201002</td><td>201003</td><td>A00</td></tr>\n",
       "</table>\n"
      ],
      "text/plain": [
       "+--------+------+------+------------+\n",
       "|사원번호|투입월|종료월|프로젝트번호|\n",
       "+--------+------+------+------------+\n",
       "|     101|201001|201005|         A00|\n",
       "|     101|201006|201101|         A01|\n",
       "|     109|201002|201003|         A00|\n",
       "+--------+------+------+------------+"
      ]
     },
     "execution_count": 7,
     "metadata": {},
     "output_type": "execute_result"
    }
   ],
   "source": [
    "no_00_01"
   ]
  },
  {
   "cell_type": "code",
   "execution_count": 10,
   "metadata": {},
   "outputs": [],
   "source": [
    "homework4_2 = emp.join(no_00_01,emp[\"사원번호\"] == no_00_01[\"사원번호\"],\"left_anti\")\\\n",
    "                 .select(emp[\"사원번호\"],emp[\"사원명\"])\n",
    "#프로젝트번호 A00,A01이 아닌 사원번호들이 출력되게 하는 데이터프레임"
   ]
  },
  {
   "cell_type": "code",
   "execution_count": 11,
   "metadata": {},
   "outputs": [
    {
     "data": {
      "text/html": [
       "<table border='1'>\n",
       "<tr><th>사원번호</th><th>사원명</th></tr>\n",
       "<tr><td>102</td><td>한영애</td></tr>\n",
       "<tr><td>103</td><td>조규찬</td></tr>\n",
       "<tr><td>104</td><td>이상은</td></tr>\n",
       "<tr><td>105</td><td>조덕배</td></tr>\n",
       "<tr><td>106</td><td>장필순</td></tr>\n",
       "<tr><td>107</td><td>오석준</td></tr>\n",
       "<tr><td>108</td><td>이규석</td></tr>\n",
       "<tr><td>110</td><td>이선희</td></tr>\n",
       "<tr><td>111</td><td>김창완</td></tr>\n",
       "<tr><td>112</td><td>이현우</td></tr>\n",
       "</table>\n"
      ],
      "text/plain": [
       "+--------+------+\n",
       "|사원번호|사원명|\n",
       "+--------+------+\n",
       "|     102|한영애|\n",
       "|     103|조규찬|\n",
       "|     104|이상은|\n",
       "|     105|조덕배|\n",
       "|     106|장필순|\n",
       "|     107|오석준|\n",
       "|     108|이규석|\n",
       "|     110|이선희|\n",
       "|     111|김창완|\n",
       "|     112|이현우|\n",
       "+--------+------+"
      ]
     },
     "execution_count": 11,
     "metadata": {},
     "output_type": "execute_result"
    }
   ],
   "source": [
    "homework4_2"
   ]
  }
 ],
 "metadata": {
  "jupytext": {
   "formats": "ipynb,auto:light"
  },
  "kernelspec": {
   "display_name": "Python 3",
   "language": "python",
   "name": "python3"
  },
  "language_info": {
   "codemirror_mode": {
    "name": "ipython",
    "version": 3
   },
   "file_extension": ".py",
   "mimetype": "text/x-python",
   "name": "python",
   "nbconvert_exporter": "python",
   "pygments_lexer": "ipython3",
   "version": "3.6.5"
  }
 },
 "nbformat": 4,
 "nbformat_minor": 2
}
