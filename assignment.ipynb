{
 "cells": [
  {
   "cell_type": "code",
   "execution_count": 1,
   "metadata": {},
   "outputs": [],
   "source": [
    "import findspark\n",
    "findspark.init()\n",
    "\n",
    "from pyspark.sql import SparkSession\n",
    "\n",
    "spark = SparkSession.builder.appName(\"sample\").master(\"local[*]\").getOrCreate()\n",
    "spark.conf.set(\"spark.sql.repl.eagerEval.enabled\", True)"
   ]
  },
  {
   "cell_type": "code",
   "execution_count": 3,
   "metadata": {},
   "outputs": [],
   "source": [
    "cnts_prod_mst_20210205 = spark.read.format(\"csv\").option(\"header\",\"true\").load(\"C:/Users/b2en/Downloads/Spark 실습/homework_2/cnts_prod_mst_20210205.csv\")\n",
    "cnts_prod_mst_20210206 = spark.read.format(\"csv\").option(\"header\",\"true\").load(\"C:/Users/b2en/Downloads/Spark 실습/homework_2/cnts_prod_mst_20210206.csv\")\n",
    "cnts_prod_mst_20210207 = spark.read.format(\"csv\").option(\"header\",\"true\").load(\"C:/Users/b2en/Downloads/Spark 실습/homework_2/cnts_prod_mst_20210207.csv\")\n",
    "cnts_prod_mst_20210208 = spark.read.format(\"csv\").option(\"header\",\"true\").load(\"C:/Users/b2en/Downloads/Spark 실습/homework_2/cnts_prod_mst_20210208.csv\")\n",
    "vod_wat_day_20210206 = spark.read.format(\"csv\").option(\"header\",\"true\").load(\"C:/Users/b2en/Downloads/Spark 실습/homework_2/vod_wat_day_20210206.csv\")\n",
    "vod_wat_day_20210207 = spark.read.format(\"csv\").option(\"header\",\"true\").load(\"C:/Users/b2en/Downloads/Spark 실습/homework_2/vod_wat_day_20210207.csv\")"
   ]
  },
  {
   "cell_type": "code",
   "execution_count": 4,
   "metadata": {},
   "outputs": [],
   "source": [
    "from pyspark.sql.functions import *\n",
    "from pyspark.sql.window import *"
   ]
  },
  {
   "cell_type": "code",
   "execution_count": 28,
   "metadata": {},
   "outputs": [
    {
     "data": {
      "text/html": [
       "<table border='1'>\n",
       "<tr><th>CNTS_PROD_ID</th><th>DATA_STA_DT</th><th>DATA_END_DT</th><th>CNTS_PROD_NM</th><th>CNTS_PROD_TYP_CD</th><th>PROD_PRC</th><th>SALE_PRC</th><th>USE_YN</th></tr>\n",
       "<tr><td>PM50773595</td><td>20210205</td><td>99991231</td><td>런닝맨_21.01.17.일_SBS</td><td>10</td><td>1500</td><td>1500</td><td>Y</td></tr>\n",
       "</table>\n"
      ],
      "text/plain": [
       "+------------+-----------+-----------+----------------------+----------------+--------+--------+------+\n",
       "|CNTS_PROD_ID|DATA_STA_DT|DATA_END_DT|          CNTS_PROD_NM|CNTS_PROD_TYP_CD|PROD_PRC|SALE_PRC|USE_YN|\n",
       "+------------+-----------+-----------+----------------------+----------------+--------+--------+------+\n",
       "|  PM50773595|   20210205|   99991231|런닝맨_21.01.17.일_SBS|              10|    1500|    1500|     Y|\n",
       "+------------+-----------+-----------+----------------------+----------------+--------+--------+------+"
      ]
     },
     "execution_count": 28,
     "metadata": {},
     "output_type": "execute_result"
    }
   ],
   "source": [
    "cnts_prod_mst_20210205.withColumn(\"DATA_END_DT\",coalesce(lead(col(\"STRD_DT\")).over(Window.orderBy(\"STRD_DT\")),lit('99991231')))\\\n",
    "                      .withColumn(\"DATA_STA_DT\",col(\"STRD_DT\"))\\\n",
    "                      .select(\"CNTS_PROD_ID\",\"DATA_STA_DT\",\"DATA_END_DT\",\"CNTS_PROD_NM\",\"CNTS_PROD_TYP_CD\",\"PROD_PRC\",\"SALE_PRC\",\"USE_YN\")"
   ]
  },
  {
   "cell_type": "code",
   "execution_count": 29,
   "metadata": {},
   "outputs": [
    {
     "data": {
      "text/html": [
       "<table border='1'>\n",
       "<tr><th>CNTS_PROD_ID</th><th>DATA_STA_DT</th><th>DATA_END_DT</th><th>CNTS_PROD_NM</th><th>CNTS_PROD_TYP_CD</th><th>PROD_PRC</th><th>SALE_PRC</th><th>USE_YN</th></tr>\n",
       "<tr><td>PM50773595</td><td>20210205</td><td>20210206</td><td>런닝맨_21.01.17.일_SBS</td><td>10</td><td>1500</td><td>1500</td><td>Y</td></tr>\n",
       "<tr><td>PM50773595</td><td>20210206</td><td>99991231</td><td>런닝맨_21.01.17.일_SBS</td><td>10</td><td>1500</td><td>1500</td><td>Y</td></tr>\n",
       "</table>\n"
      ],
      "text/plain": [
       "+------------+-----------+-----------+----------------------+----------------+--------+--------+------+\n",
       "|CNTS_PROD_ID|DATA_STA_DT|DATA_END_DT|          CNTS_PROD_NM|CNTS_PROD_TYP_CD|PROD_PRC|SALE_PRC|USE_YN|\n",
       "+------------+-----------+-----------+----------------------+----------------+--------+--------+------+\n",
       "|  PM50773595|   20210205|   20210206|런닝맨_21.01.17.일_SBS|              10|    1500|    1500|     Y|\n",
       "|  PM50773595|   20210206|   99991231|런닝맨_21.01.17.일_SBS|              10|    1500|    1500|     Y|\n",
       "+------------+-----------+-----------+----------------------+----------------+--------+--------+------+"
      ]
     },
     "execution_count": 29,
     "metadata": {},
     "output_type": "execute_result"
    }
   ],
   "source": [
    "cnts_prod_mst_20210205.union(cnts_prod_mst_20210206)\\\n",
    "                      .withColumn(\"DATA_END_DT\",coalesce(lead(col(\"STRD_DT\")).over(Window.orderBy(\"STRD_DT\")),lit('99991231')))\\\n",
    "                      .withColumn(\"DATA_STA_DT\",col(\"STRD_DT\"))\\\n",
    "                      .select(\"CNTS_PROD_ID\",\"DATA_STA_DT\",\"DATA_END_DT\",\"CNTS_PROD_NM\",\"CNTS_PROD_TYP_CD\",\"PROD_PRC\",\"SALE_PRC\",\"USE_YN\")"
   ]
  },
  {
   "cell_type": "code",
   "execution_count": 30,
   "metadata": {},
   "outputs": [
    {
     "data": {
      "text/html": [
       "<table border='1'>\n",
       "<tr><th>CNTS_PROD_ID</th><th>DATA_STA_DT</th><th>DATA_END_DT</th><th>CNTS_PROD_NM</th><th>CNTS_PROD_TYP_CD</th><th>PROD_PRC</th><th>SALE_PRC</th><th>USE_YN</th></tr>\n",
       "<tr><td>PM50773595</td><td>20210205</td><td>20210206</td><td>런닝맨_21.01.17.일_SBS</td><td>10</td><td>1500</td><td>1500</td><td>Y</td></tr>\n",
       "<tr><td>PM50773595</td><td>20210206</td><td>20210207</td><td>런닝맨_21.01.17.일_SBS</td><td>10</td><td>1500</td><td>1500</td><td>Y</td></tr>\n",
       "<tr><td>PM50773595</td><td>20210207</td><td>99991231</td><td>런닝맨_21.01.17.일_SBS</td><td>10</td><td>1500</td><td>0</td><td>Y</td></tr>\n",
       "</table>\n"
      ],
      "text/plain": [
       "+------------+-----------+-----------+----------------------+----------------+--------+--------+------+\n",
       "|CNTS_PROD_ID|DATA_STA_DT|DATA_END_DT|          CNTS_PROD_NM|CNTS_PROD_TYP_CD|PROD_PRC|SALE_PRC|USE_YN|\n",
       "+------------+-----------+-----------+----------------------+----------------+--------+--------+------+\n",
       "|  PM50773595|   20210205|   20210206|런닝맨_21.01.17.일_SBS|              10|    1500|    1500|     Y|\n",
       "|  PM50773595|   20210206|   20210207|런닝맨_21.01.17.일_SBS|              10|    1500|    1500|     Y|\n",
       "|  PM50773595|   20210207|   99991231|런닝맨_21.01.17.일_SBS|              10|    1500|       0|     Y|\n",
       "+------------+-----------+-----------+----------------------+----------------+--------+--------+------+"
      ]
     },
     "execution_count": 30,
     "metadata": {},
     "output_type": "execute_result"
    }
   ],
   "source": [
    "cnts_prod_mst_20210205.union(cnts_prod_mst_20210206)\\\n",
    "                      .union(cnts_prod_mst_20210207)\\\n",
    "                      .withColumn(\"DATA_END_DT\",coalesce(lead(col(\"STRD_DT\")).over(Window.orderBy(\"STRD_DT\")),lit('99991231')))\\\n",
    "                      .withColumn(\"DATA_STA_DT\",col(\"STRD_DT\"))\\\n",
    "                      .select(\"CNTS_PROD_ID\",\"DATA_STA_DT\",\"DATA_END_DT\",\"CNTS_PROD_NM\",\"CNTS_PROD_TYP_CD\",\"PROD_PRC\",\"SALE_PRC\",\"USE_YN\")"
   ]
  },
  {
   "cell_type": "code",
   "execution_count": 36,
   "metadata": {},
   "outputs": [
    {
     "data": {
      "text/html": [
       "<table border='1'>\n",
       "<tr><th>STRD_DT</th><th>SVC_MGMT_NUM</th><th>CNTS_PROD_ID</th><th>CNTS_PROD_NM</th><th>WAT_CNT</th><th>PYFR_YN</th><th>SALE_PRC</th></tr>\n",
       "<tr><td>20210206</td><td>7000000001</td><td>PM50773595</td><td>런닝맨_21.01.17.일_SBS</td><td>1</td><td>Y</td><td>1500</td></tr>\n",
       "<tr><td>20210206</td><td>7000000002</td><td>PM50773595</td><td>런닝맨_21.01.17.일_SBS</td><td>1</td><td>Y</td><td>1500</td></tr>\n",
       "<tr><td>20210206</td><td>7000000003</td><td>PM50773595</td><td>런닝맨_21.01.17.일_SBS</td><td>2</td><td>Y</td><td>1500</td></tr>\n",
       "</table>\n"
      ],
      "text/plain": [
       "+--------+------------+------------+----------------------+-------+-------+--------+\n",
       "| STRD_DT|SVC_MGMT_NUM|CNTS_PROD_ID|          CNTS_PROD_NM|WAT_CNT|PYFR_YN|SALE_PRC|\n",
       "+--------+------------+------------+----------------------+-------+-------+--------+\n",
       "|20210206|  7000000001|  PM50773595|런닝맨_21.01.17.일_SBS|      1|      Y|    1500|\n",
       "|20210206|  7000000002|  PM50773595|런닝맨_21.01.17.일_SBS|      1|      Y|    1500|\n",
       "|20210206|  7000000003|  PM50773595|런닝맨_21.01.17.일_SBS|      2|      Y|    1500|\n",
       "+--------+------------+------------+----------------------+-------+-------+--------+"
      ]
     },
     "execution_count": 36,
     "metadata": {},
     "output_type": "execute_result"
    }
   ],
   "source": [
    "vod_wat_day_20210206.join(cnts_prod_mst_20210206,vod_wat_day_20210206[\"CNTS_PROD_ID\"] == cnts_prod_mst_20210206[\"CNTS_PROD_ID\"],\"inner\")\\\n",
    "                    .withColumn(\"PYFR_YN\",when(cnts_prod_mst_20210206[\"SALE_PRC\"] >= 0,lit('Y')).otherwise(lit('N')))\\\n",
    "                    .select(vod_wat_day_20210206[\"STRD_DT\"],vod_wat_day_20210206[\"SVC_MGMT_NUM\"],vod_wat_day_20210206[\"CNTS_PROD_ID\"],\\\n",
    "                            cnts_prod_mst_20210206[\"CNTS_PROD_NM\"],vod_wat_day_20210206[\"WAT_CNT\"],col(\"PYFR_YN\"),cnts_prod_mst_20210206[\"SALE_PRC\"])"
   ]
  },
  {
   "cell_type": "code",
   "execution_count": null,
   "metadata": {},
   "outputs": [],
   "source": []
  }
 ],
 "metadata": {
  "jupytext": {
   "encoding": "# -*- coding: utf-8 -*-",
   "formats": "ipynb,py:light"
  },
  "kernelspec": {
   "display_name": "Python 3",
   "language": "python",
   "name": "python3"
  },
  "language_info": {
   "codemirror_mode": {
    "name": "ipython",
    "version": 3
   },
   "file_extension": ".py",
   "mimetype": "text/x-python",
   "name": "python",
   "nbconvert_exporter": "python",
   "pygments_lexer": "ipython3",
   "version": "3.6.5"
  }
 },
 "nbformat": 4,
 "nbformat_minor": 2
}
