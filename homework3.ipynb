{
 "cells": [
  {
   "cell_type": "code",
   "execution_count": 1,
   "metadata": {},
   "outputs": [],
   "source": [
    "import findspark\n",
    "findspark.init()\n",
    "\n",
    "from pyspark.sql import SparkSession\n",
    "\n",
    "spark = SparkSession.builder.appName(\"sample\").master(\"local[*]\").getOrCreate()\n",
    "spark.conf.set(\"spark.sql.repl.eagerEval.enabled\", True)"
   ]
  },
  {
   "cell_type": "code",
   "execution_count": 2,
   "metadata": {},
   "outputs": [],
   "source": [
    "emp = spark.read.format(\"csv\").option(\"header\",\"true\").load(\"C:/Users/b2en/Downloads/Spark 실습/실습문제_20210324/data/emp.csv\")\n",
    "amt_sal = spark.read.format(\"csv\").option(\"header\",\"true\").load(\"C:/Users/b2en/Downloads/Spark 실습/실습문제_20210324/data/금액제급여.csv\")\n",
    "hobong_sal = spark.read.format(\"csv\").option(\"header\",\"true\").load(\"C:/Users/b2en/Downloads/Spark 실습/실습문제_20210324/data/호봉제급여.csv\")\n",
    "yearly_sal = spark.read.format(\"csv\").option(\"header\",\"true\").load(\"C:/Users/b2en/Downloads/Spark 실습/실습문제_20210324/data/연봉제급여.csv\")\n",
    "sal_pay = spark.read.format(\"csv\").option(\"header\",\"true\").load(\"C:/Users/b2en/Downloads/Spark 실습/실습문제_20210324/data/급여지급.csv\")\n",
    "bonus_sal = spark.read.format(\"csv\").option(\"header\",\"true\").load(\"C:/Users/b2en/Downloads/Spark 실습/실습문제_20210324/data/기타급여.csv\")\n",
    "iss_hist = spark.read.format(\"csv\").option(\"header\",\"true\").load(\"C:/Users/b2en/Downloads/Spark 실습/실습문제_20210324/data/발령이력.csv\")\n",
    "dept = spark.read.format(\"csv\").option(\"header\",\"true\").load(\"C:/Users/b2en/Downloads/Spark 실습/실습문제_20210324/data/부서.csv\")\n",
    "pjt = spark.read.format(\"csv\").option(\"header\",\"true\").load(\"C:/Users/b2en/Downloads/Spark 실습/실습문제_20210324/data/프로젝트.csv\")\n",
    "pjt_use_hist = spark.read.format(\"csv\").option(\"header\",\"true\").load(\"C:/Users/b2en/Downloads/Spark 실습/실습문제_20210324/data/프로젝트투입이력.csv\")\n",
    "vc_use_hist = spark.read.format(\"csv\").option(\"header\",\"true\").load(\"C:/Users/b2en/Downloads/Spark 실습/실습문제_20210324/data/휴가사용이력.csv\")"
   ]
  },
  {
   "cell_type": "code",
   "execution_count": 3,
   "metadata": {},
   "outputs": [],
   "source": [
    "from pyspark.sql.functions import *\n",
    "from pyspark.sql.window import *"
   ]
  },
  {
   "cell_type": "markdown",
   "metadata": {},
   "source": [
    "[1] 부서별 사원수, 전체사원수, 참여프로젝트수, 가장 마지막으로 입사한 사원의 이름\n",
    "   - 참여프로젝트수: 부서에 속한 사원이 참여한 모든 프로젝트의 개수 (동일 프로젝트는 1건으로 집계)\n",
    "   - 최종입사자: 각 부서별 가장 마지막으로 입사한 사원의 이름 (입사일자가 동일한 경우는 사원번호가 가장 빠른 사원이 노출되도록 함)\n"
   ]
  },
  {
   "cell_type": "code",
   "execution_count": 5,
   "metadata": {},
   "outputs": [],
   "source": [
    "num_name = emp.withColumn(\"RN\",row_number().over(Window.partitionBy(\"부서코드\").orderBy(desc(\"입사일자\"),\"사원번호\")))\\\n",
    "              .withColumn(\"최종입사자사원명\",when(col(\"RN\") == 1,emp[\"사원명\"]))\\\n",
    "              .join(dept,emp[\"부서코드\"] == dept[\"부서코드\"],\"inner\")\\\n",
    "              .groupBy(emp[\"부서코드\"],dept[\"부서명\"]).agg(count(emp[\"사원번호\"]).alias(\"전체사원수\"),min(\"최종입사자사원명\").alias(\"최종입사자사원명\"))\n",
    "#부서별 최종입사자명과 사원수를 구하는 데이터프레임"
   ]
  },
  {
   "cell_type": "code",
   "execution_count": 6,
   "metadata": {},
   "outputs": [
    {
     "data": {
      "text/html": [
       "<table border='1'>\n",
       "<tr><th>부서코드</th><th>부서명</th><th>전체사원수</th><th>최종입사자사원명</th></tr>\n",
       "<tr><td>30</td><td>전산팀</td><td>5</td><td>한영애</td></tr>\n",
       "<tr><td>20</td><td>영업팀</td><td>3</td><td>조규찬</td></tr>\n",
       "<tr><td>10</td><td>인사팀</td><td>4</td><td>장필순</td></tr>\n",
       "</table>\n"
      ],
      "text/plain": [
       "+--------+------+----------+----------------+\n",
       "|부서코드|부서명|전체사원수|최종입사자사원명|\n",
       "+--------+------+----------+----------------+\n",
       "|      30|전산팀|         5|          한영애|\n",
       "|      20|영업팀|         3|          조규찬|\n",
       "|      10|인사팀|         4|          장필순|\n",
       "+--------+------+----------+----------------+"
      ]
     },
     "execution_count": 6,
     "metadata": {},
     "output_type": "execute_result"
    }
   ],
   "source": [
    "num_name"
   ]
  },
  {
   "cell_type": "code",
   "execution_count": 7,
   "metadata": {},
   "outputs": [],
   "source": [
    "pjt_num = emp.join(pjt_use_hist,emp[\"사원번호\"] == pjt_use_hist[\"사원번호\"],\"left_outer\")\\\n",
    "             .groupBy(emp[\"부서코드\"]).agg(countDistinct(pjt_use_hist[\"프로젝트번호\"]).alias(\"프로젝트수\"))\n",
    "#부서별 프로젝트 수를 구하는 데이터프레임"
   ]
  },
  {
   "cell_type": "code",
   "execution_count": 21,
   "metadata": {},
   "outputs": [
    {
     "data": {
      "text/html": [
       "<table border='1'>\n",
       "<tr><th>부서코드</th><th>프로젝트수</th></tr>\n",
       "<tr><td>30</td><td>4</td></tr>\n",
       "<tr><td>20</td><td>1</td></tr>\n",
       "<tr><td>10</td><td>1</td></tr>\n",
       "</table>\n"
      ],
      "text/plain": [
       "+--------+----------+\n",
       "|부서코드|프로젝트수|\n",
       "+--------+----------+\n",
       "|      30|         4|\n",
       "|      20|         1|\n",
       "|      10|         1|\n",
       "+--------+----------+"
      ]
     },
     "execution_count": 21,
     "metadata": {},
     "output_type": "execute_result"
    }
   ],
   "source": [
    "pjt_num"
   ]
  },
  {
   "cell_type": "code",
   "execution_count": 8,
   "metadata": {},
   "outputs": [],
   "source": [
    "homework3_1 = num_name.join(pjt_num,num_name[\"부서코드\"] == pjt_num[\"부서코드\"],\"inner\")\\\n",
    "                      .select(num_name[\"부서코드\"],num_name[\"부서명\"],num_name[\"전체사원수\"],pjt_num[\"프로젝트수\"],num_name[\"최종입사자사원명\"])\n",
    "#부서코드로 조인하여 원하는 결과를 얻어내는 데이터프레임"
   ]
  },
  {
   "cell_type": "code",
   "execution_count": 24,
   "metadata": {},
   "outputs": [
    {
     "data": {
      "text/html": [
       "<table border='1'>\n",
       "<tr><th>부서코드</th><th>부서명</th><th>전체사원수</th><th>프로젝트수</th><th>최종입사자사원명</th></tr>\n",
       "<tr><td>30</td><td>전산팀</td><td>5</td><td>4</td><td>한영애</td></tr>\n",
       "<tr><td>20</td><td>영업팀</td><td>3</td><td>1</td><td>조규찬</td></tr>\n",
       "<tr><td>10</td><td>인사팀</td><td>4</td><td>1</td><td>장필순</td></tr>\n",
       "</table>\n"
      ],
      "text/plain": [
       "+--------+------+----------+----------+----------------+\n",
       "|부서코드|부서명|전체사원수|프로젝트수|최종입사자사원명|\n",
       "+--------+------+----------+----------+----------------+\n",
       "|      30|전산팀|         5|         4|          한영애|\n",
       "|      20|영업팀|         3|         1|          조규찬|\n",
       "|      10|인사팀|         4|         1|          장필순|\n",
       "+--------+------+----------+----------+----------------+"
      ]
     },
     "execution_count": 24,
     "metadata": {},
     "output_type": "execute_result"
    }
   ],
   "source": [
    "homework3_1"
   ]
  },
  {
   "cell_type": "markdown",
   "metadata": {},
   "source": [
    "[2] (1번의 결과 데이터를 기준으로) 각 부서 중, 전체사원수가 가장 많은 상위 2개 부서만 노출\n"
   ]
  },
  {
   "cell_type": "code",
   "execution_count": 9,
   "metadata": {},
   "outputs": [],
   "source": [
    "homework3_2 = homework3_1.withColumn(\"rnk\",row_number().over(Window.orderBy(desc(\"전체사원수\"))))\\\n",
    "                         .select(\"부서코드\",\"부서명\",\"전체사원수\",\"프로젝트수\",\"최종입사자사원명\")\\\n",
    "                         .orderBy(\"rnk\")\\\n",
    "                         .limit(2)"
   ]
  },
  {
   "cell_type": "code",
   "execution_count": 35,
   "metadata": {},
   "outputs": [
    {
     "data": {
      "text/html": [
       "<table border='1'>\n",
       "<tr><th>부서코드</th><th>부서명</th><th>전체사원수</th><th>프로젝트수</th><th>최종입사자사원명</th></tr>\n",
       "<tr><td>30</td><td>전산팀</td><td>5</td><td>4</td><td>한영애</td></tr>\n",
       "<tr><td>10</td><td>인사팀</td><td>4</td><td>1</td><td>장필순</td></tr>\n",
       "</table>\n"
      ],
      "text/plain": [
       "+--------+------+----------+----------+----------------+\n",
       "|부서코드|부서명|전체사원수|프로젝트수|최종입사자사원명|\n",
       "+--------+------+----------+----------+----------------+\n",
       "|      30|전산팀|         5|         4|          한영애|\n",
       "|      10|인사팀|         4|         1|          장필순|\n",
       "+--------+------+----------+----------+----------------+"
      ]
     },
     "execution_count": 35,
     "metadata": {},
     "output_type": "execute_result"
    }
   ],
   "source": [
    "homework3_2"
   ]
  },
  {
   "cell_type": "markdown",
   "metadata": {},
   "source": [
    "[3] 월별 사원별 휴가사용일수 및 투입 프로젝트\n",
    "    - 조회 대상은 휴가사용이력에 발생된 데이터를 기준으로 함\n",
    "    - 월+사원 별 휴가 사용 일수 집계\n",
    "    - 해당 사원이 해당 월에 투입되었던 프로젝트명을 포함 (투입 프로젝트가 없는 경우, '없음'으로 표기)\n"
   ]
  },
  {
   "cell_type": "code",
   "execution_count": 10,
   "metadata": {},
   "outputs": [],
   "source": [
    "name_vc_num = vc_use_hist.join(emp,vc_use_hist[\"사원번호\"] == emp[\"사원번호\"],\"inner\")\\\n",
    "                         .groupBy(substring(vc_use_hist[\"휴가사용일자\"],1,6).alias(\"휴가사용월\"),vc_use_hist[\"사원번호\"],emp[\"사원명\"])\\\n",
    "                         .agg(count(emp[\"사원번호\"]).alias(\"휴가사용일수\"))\n",
    "#휴가사용월별 사원번호,사원명,휴가사용일수를 구하는 데이터프레임"
   ]
  },
  {
   "cell_type": "code",
   "execution_count": 11,
   "metadata": {},
   "outputs": [
    {
     "data": {
      "text/html": [
       "<table border='1'>\n",
       "<tr><th>휴가사용월</th><th>사원번호</th><th>사원명</th><th>휴가사용일수</th></tr>\n",
       "<tr><td>201011</td><td>105</td><td>조덕배</td><td>1</td></tr>\n",
       "<tr><td>201106</td><td>103</td><td>조규찬</td><td>1</td></tr>\n",
       "<tr><td>201011</td><td>101</td><td>조동진</td><td>1</td></tr>\n",
       "<tr><td>201011</td><td>109</td><td>전수경</td><td>1</td></tr>\n",
       "<tr><td>201105</td><td>108</td><td>이규석</td><td>1</td></tr>\n",
       "<tr><td>201002</td><td>109</td><td>전수경</td><td>1</td></tr>\n",
       "<tr><td>201001</td><td>101</td><td>조동진</td><td>3</td></tr>\n",
       "<tr><td>201008</td><td>102</td><td>한영애</td><td>4</td></tr>\n",
       "</table>\n"
      ],
      "text/plain": [
       "+----------+--------+------+------------+\n",
       "|휴가사용월|사원번호|사원명|휴가사용일수|\n",
       "+----------+--------+------+------------+\n",
       "|    201011|     105|조덕배|           1|\n",
       "|    201106|     103|조규찬|           1|\n",
       "|    201011|     101|조동진|           1|\n",
       "|    201011|     109|전수경|           1|\n",
       "|    201105|     108|이규석|           1|\n",
       "|    201002|     109|전수경|           1|\n",
       "|    201001|     101|조동진|           3|\n",
       "|    201008|     102|한영애|           4|\n",
       "+----------+--------+------+------------+"
      ]
     },
     "execution_count": 11,
     "metadata": {},
     "output_type": "execute_result"
    }
   ],
   "source": [
    "name_vc_num"
   ]
  },
  {
   "cell_type": "code",
   "execution_count": 12,
   "metadata": {},
   "outputs": [],
   "source": [
    "pjt_name = pjt_use_hist.join(pjt,pjt_use_hist[\"프로젝트번호\"] == pjt[\"프로젝트번호\"],\"inner\")\n",
    "#프로젝트 명을 구하는 데이터프레임"
   ]
  },
  {
   "cell_type": "code",
   "execution_count": 42,
   "metadata": {},
   "outputs": [
    {
     "data": {
      "text/html": [
       "<table border='1'>\n",
       "<tr><th>사원번호</th><th>투입월</th><th>종료월</th><th>프로젝트번호</th><th>프로젝트번호</th><th>프로젝트명</th></tr>\n",
       "<tr><td>101</td><td>201001</td><td>201005</td><td>A00</td><td>A00</td><td>프로젝트00</td></tr>\n",
       "<tr><td>101</td><td>201006</td><td>201101</td><td>A01</td><td>A01</td><td>프로젝트01</td></tr>\n",
       "<tr><td>102</td><td>201005</td><td>201105</td><td>A02</td><td>A02</td><td>프로젝트02</td></tr>\n",
       "<tr><td>103</td><td>201101</td><td>201110</td><td>A03</td><td>A03</td><td>프로젝트03</td></tr>\n",
       "<tr><td>104</td><td>201011</td><td>201103</td><td>A04</td><td>A04</td><td>프로젝트04</td></tr>\n",
       "<tr><td>105</td><td>201011</td><td>201103</td><td>A04</td><td>A04</td><td>프로젝트04</td></tr>\n",
       "<tr><td>109</td><td>201002</td><td>201003</td><td>A00</td><td>A00</td><td>프로젝트00</td></tr>\n",
       "<tr><td>109</td><td>201101</td><td>201105</td><td>A03</td><td>A03</td><td>프로젝트03</td></tr>\n",
       "</table>\n"
      ],
      "text/plain": [
       "+--------+------+------+------------+------------+----------+\n",
       "|사원번호|투입월|종료월|프로젝트번호|프로젝트번호|프로젝트명|\n",
       "+--------+------+------+------------+------------+----------+\n",
       "|     101|201001|201005|         A00|         A00|프로젝트00|\n",
       "|     101|201006|201101|         A01|         A01|프로젝트01|\n",
       "|     102|201005|201105|         A02|         A02|프로젝트02|\n",
       "|     103|201101|201110|         A03|         A03|프로젝트03|\n",
       "|     104|201011|201103|         A04|         A04|프로젝트04|\n",
       "|     105|201011|201103|         A04|         A04|프로젝트04|\n",
       "|     109|201002|201003|         A00|         A00|프로젝트00|\n",
       "|     109|201101|201105|         A03|         A03|프로젝트03|\n",
       "+--------+------+------+------------+------------+----------+"
      ]
     },
     "execution_count": 42,
     "metadata": {},
     "output_type": "execute_result"
    }
   ],
   "source": [
    "pjt_name"
   ]
  },
  {
   "cell_type": "code",
   "execution_count": 13,
   "metadata": {},
   "outputs": [],
   "source": [
    "homework3_3 = name_vc_num.join(pjt_name,(name_vc_num[\"사원번호\"] == pjt_name[\"사원번호\"]) & \\\n",
    "                              (name_vc_num[\"휴가사용월\"]).between(pjt_name[\"투입월\"],pjt_name[\"종료월\"]),\"left_outer\")\\\n",
    "                         .select(name_vc_num[\"휴가사용월\"],name_vc_num[\"사원번호\"],name_vc_num[\"사원명\"],name_vc_num[\"휴가사용일수\"],\\\n",
    "                                 coalesce(pjt_name[\"프로젝트명\"],lit(\"없음\")).alias(\"프로젝트명\"))\\\n",
    "                         .orderBy(name_vc_num[\"휴가사용월\"])\n",
    "#2데이터프레임을 조인해서 원하는 결과를 얻고 프로젝트명이 없을 시 없음으로 표기"
   ]
  },
  {
   "cell_type": "code",
   "execution_count": 14,
   "metadata": {},
   "outputs": [
    {
     "data": {
      "text/html": [
       "<table border='1'>\n",
       "<tr><th>휴가사용월</th><th>사원번호</th><th>사원명</th><th>휴가사용일수</th><th>프로젝트명</th></tr>\n",
       "<tr><td>201001</td><td>101</td><td>조동진</td><td>3</td><td>프로젝트00</td></tr>\n",
       "<tr><td>201002</td><td>109</td><td>전수경</td><td>1</td><td>프로젝트00</td></tr>\n",
       "<tr><td>201008</td><td>102</td><td>한영애</td><td>4</td><td>프로젝트02</td></tr>\n",
       "<tr><td>201011</td><td>109</td><td>전수경</td><td>1</td><td>없음</td></tr>\n",
       "<tr><td>201011</td><td>101</td><td>조동진</td><td>1</td><td>프로젝트01</td></tr>\n",
       "<tr><td>201011</td><td>105</td><td>조덕배</td><td>1</td><td>프로젝트04</td></tr>\n",
       "<tr><td>201105</td><td>108</td><td>이규석</td><td>1</td><td>없음</td></tr>\n",
       "<tr><td>201106</td><td>103</td><td>조규찬</td><td>1</td><td>프로젝트03</td></tr>\n",
       "</table>\n"
      ],
      "text/plain": [
       "+----------+--------+------+------------+----------+\n",
       "|휴가사용월|사원번호|사원명|휴가사용일수|프로젝트명|\n",
       "+----------+--------+------+------------+----------+\n",
       "|    201001|     101|조동진|           3|프로젝트00|\n",
       "|    201002|     109|전수경|           1|프로젝트00|\n",
       "|    201008|     102|한영애|           4|프로젝트02|\n",
       "|    201011|     101|조동진|           1|프로젝트01|\n",
       "|    201011|     109|전수경|           1|      없음|\n",
       "|    201011|     105|조덕배|           1|프로젝트04|\n",
       "|    201105|     108|이규석|           1|      없음|\n",
       "|    201106|     103|조규찬|           1|프로젝트03|\n",
       "+----------+--------+------+------------+----------+"
      ]
     },
     "execution_count": 14,
     "metadata": {},
     "output_type": "execute_result"
    }
   ],
   "source": [
    "homework3_3"
   ]
  },
  {
   "cell_type": "markdown",
   "metadata": {},
   "source": [
    "[4] 사원별 가장 마지막으로 투입된 프로젝트, 해당 프로젝트 기간 동안 받은 총 급여액\n",
    "   - 대상은 사원 테이블의 모든 사원을 대상으로 함\n",
    "   - 각 사원 별 가장 마지막으로 투입되었던 프로젝트명을 포함 (투입 프로젝트가 없는 경우, '없음'으로 표기)\n",
    "   - 마지막 투입 프로젝트 기간 동안 받은 총 급여액 합계 포함 (프로젝트 투입 이력이 없는 경우, 급여지급을 기준으로 사원 별 총 급여지급액을 합산하여 반영)\n"
   ]
  },
  {
   "cell_type": "code",
   "execution_count": 25,
   "metadata": {},
   "outputs": [],
   "source": [
    "pjt_name_sal =\\\n",
    "pjt_use_hist.withColumn(\"rn\",row_number().over(Window.partitionBy(\"사원번호\").orderBy(\"종료월\")))\\\n",
    "            .join(pjt,(pjt_use_hist[\"프로젝트번호\"] == pjt[\"프로젝트번호\"]) & (col(\"rn\") == 1),\"inner\")\\\n",
    "            .join(sal_pay,(pjt_use_hist[\"사원번호\"] == sal_pay[\"사원번호\"]) &\\\n",
    "                 (sal_pay[\"급여월\"]).between(pjt_use_hist[\"투입월\"],pjt_use_hist[\"종료월\"]),\"inner\")\\\n",
    "            .groupBy(pjt_use_hist[\"사원번호\"],pjt[\"프로젝트명\"]).agg(sum(sal_pay[\"월급여\"]).cast(\"int\").alias(\"투입기간급여액\"))\n",
    "#사원번호별 최종종료월을 구해서 해당하는 프로젝트명을 구한다. 이후 급여지급 데이터프레임에서 급여월이 투입월과 종료월사이에 있는 급여들의 합을 구한다."
   ]
  },
  {
   "cell_type": "code",
   "execution_count": 26,
   "metadata": {},
   "outputs": [
    {
     "data": {
      "text/html": [
       "<table border='1'>\n",
       "<tr><th>사원번호</th><th>프로젝트명</th><th>투입기간급여액</th></tr>\n",
       "<tr><td>101</td><td>프로젝트00</td><td>7000000</td></tr>\n",
       "<tr><td>104</td><td>프로젝트04</td><td>8400000</td></tr>\n",
       "<tr><td>102</td><td>프로젝트02</td><td>10780000</td></tr>\n",
       "<tr><td>103</td><td>프로젝트03</td><td>9600000</td></tr>\n",
       "<tr><td>105</td><td>프로젝트04</td><td>7700000</td></tr>\n",
       "<tr><td>109</td><td>프로젝트00</td><td>2940000</td></tr>\n",
       "</table>\n"
      ],
      "text/plain": [
       "+--------+----------+--------------+\n",
       "|사원번호|프로젝트명|투입기간급여액|\n",
       "+--------+----------+--------------+\n",
       "|     101|프로젝트00|       7000000|\n",
       "|     104|프로젝트04|       8400000|\n",
       "|     102|프로젝트02|      10780000|\n",
       "|     103|프로젝트03|       9600000|\n",
       "|     105|프로젝트04|       7700000|\n",
       "|     109|프로젝트00|       2940000|\n",
       "+--------+----------+--------------+"
      ]
     },
     "execution_count": 26,
     "metadata": {},
     "output_type": "execute_result"
    }
   ],
   "source": [
    "pjt_name_sal"
   ]
  },
  {
   "cell_type": "code",
   "execution_count": 28,
   "metadata": {},
   "outputs": [],
   "source": [
    "total_sal = sal_pay.groupBy(\"사원번호\").agg(sum(\"월급여\").cast(\"int\").alias(\"총급여\"))\n",
    "#위의 데이터프레임에 해당하지않을 시 총 급여를 구한다."
   ]
  },
  {
   "cell_type": "code",
   "execution_count": 29,
   "metadata": {},
   "outputs": [
    {
     "data": {
      "text/html": [
       "<table border='1'>\n",
       "<tr><th>사원번호</th><th>총급여</th></tr>\n",
       "<tr><td>101</td><td>25200000</td></tr>\n",
       "<tr><td>112</td><td>27000000</td></tr>\n",
       "<tr><td>107</td><td>31860000</td></tr>\n",
       "<tr><td>104</td><td>30240000</td></tr>\n",
       "<tr><td>102</td><td>16940000</td></tr>\n",
       "<tr><td>111</td><td>27540000</td></tr>\n",
       "<tr><td>103</td><td>28800000</td></tr>\n",
       "<tr><td>108</td><td>28800000</td></tr>\n",
       "<tr><td>106</td><td>30600000</td></tr>\n",
       "<tr><td>105</td><td>27720000</td></tr>\n",
       "<tr><td>109</td><td>26460000</td></tr>\n",
       "</table>\n"
      ],
      "text/plain": [
       "+--------+--------+\n",
       "|사원번호|  총급여|\n",
       "+--------+--------+\n",
       "|     101|25200000|\n",
       "|     112|27000000|\n",
       "|     107|31860000|\n",
       "|     104|30240000|\n",
       "|     102|16940000|\n",
       "|     111|27540000|\n",
       "|     103|28800000|\n",
       "|     108|28800000|\n",
       "|     106|30600000|\n",
       "|     105|27720000|\n",
       "|     109|26460000|\n",
       "+--------+--------+"
      ]
     },
     "execution_count": 29,
     "metadata": {},
     "output_type": "execute_result"
    }
   ],
   "source": [
    "total_sal"
   ]
  },
  {
   "cell_type": "code",
   "execution_count": 33,
   "metadata": {},
   "outputs": [],
   "source": [
    "homework3_4 =\\\n",
    "emp.join(pjt_name_sal,emp[\"사원번호\"] == pjt_name_sal[\"사원번호\"],\"left_outer\")\\\n",
    "   .join(total_sal,emp[\"사원번호\"] == total_sal[\"사원번호\"],\"left_outer\")\\\n",
    "   .select(emp[\"사원번호\"],emp[\"사원명\"],coalesce(pjt_name_sal[\"프로젝트명\"],lit(\"없음\")).alias(\"프로젝트명\"),coalesce(pjt_name_sal[\"투입기간급여액\"],total_sal[\"총급여\"]).alias(\"급여\"))\\\n",
    "   .orderBy(emp[\"사원번호\"])\n",
    "#프로젝트명이 없을 시 없음 표기 프로젝트에 투입되지않은 직원은 총급여를 표시하는 데이터프레임"
   ]
  },
  {
   "cell_type": "code",
   "execution_count": 34,
   "metadata": {},
   "outputs": [
    {
     "data": {
      "text/html": [
       "<table border='1'>\n",
       "<tr><th>사원번호</th><th>사원명</th><th>프로젝트명</th><th>급여</th></tr>\n",
       "<tr><td>101</td><td>조동진</td><td>프로젝트00</td><td>7000000</td></tr>\n",
       "<tr><td>102</td><td>한영애</td><td>프로젝트02</td><td>10780000</td></tr>\n",
       "<tr><td>103</td><td>조규찬</td><td>프로젝트03</td><td>9600000</td></tr>\n",
       "<tr><td>104</td><td>이상은</td><td>프로젝트04</td><td>8400000</td></tr>\n",
       "<tr><td>105</td><td>조덕배</td><td>프로젝트04</td><td>7700000</td></tr>\n",
       "<tr><td>106</td><td>장필순</td><td>없음</td><td>30600000</td></tr>\n",
       "<tr><td>107</td><td>오석준</td><td>없음</td><td>31860000</td></tr>\n",
       "<tr><td>108</td><td>이규석</td><td>없음</td><td>28800000</td></tr>\n",
       "<tr><td>109</td><td>전수경</td><td>프로젝트00</td><td>2940000</td></tr>\n",
       "<tr><td>110</td><td>이선희</td><td>없음</td><td>null</td></tr>\n",
       "<tr><td>111</td><td>김창완</td><td>없음</td><td>27540000</td></tr>\n",
       "<tr><td>112</td><td>이현우</td><td>없음</td><td>27000000</td></tr>\n",
       "</table>\n"
      ],
      "text/plain": [
       "+--------+------+----------+--------+\n",
       "|사원번호|사원명|프로젝트명|    급여|\n",
       "+--------+------+----------+--------+\n",
       "|     101|조동진|프로젝트00| 7000000|\n",
       "|     102|한영애|프로젝트02|10780000|\n",
       "|     103|조규찬|프로젝트03| 9600000|\n",
       "|     104|이상은|프로젝트04| 8400000|\n",
       "|     105|조덕배|프로젝트04| 7700000|\n",
       "|     106|장필순|      없음|30600000|\n",
       "|     107|오석준|      없음|31860000|\n",
       "|     108|이규석|      없음|28800000|\n",
       "|     109|전수경|프로젝트00| 2940000|\n",
       "|     110|이선희|      없음|    null|\n",
       "|     111|김창완|      없음|27540000|\n",
       "|     112|이현우|      없음|27000000|\n",
       "+--------+------+----------+--------+"
      ]
     },
     "execution_count": 34,
     "metadata": {},
     "output_type": "execute_result"
    }
   ],
   "source": [
    "homework3_4"
   ]
  }
 ],
 "metadata": {
  "jupytext": {
   "formats": "ipynb,auto:light"
  },
  "kernelspec": {
   "display_name": "Python 3",
   "language": "python",
   "name": "python3"
  },
  "language_info": {
   "codemirror_mode": {
    "name": "ipython",
    "version": 3
   },
   "file_extension": ".py",
   "mimetype": "text/x-python",
   "name": "python",
   "nbconvert_exporter": "python",
   "pygments_lexer": "ipython3",
   "version": "3.6.5"
  }
 },
 "nbformat": 4,
 "nbformat_minor": 2
}
