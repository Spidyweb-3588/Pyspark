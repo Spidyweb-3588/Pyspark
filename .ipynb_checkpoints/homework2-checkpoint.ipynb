{
 "cells": [
  {
   "cell_type": "code",
   "execution_count": 1,
   "metadata": {},
   "outputs": [],
   "source": [
    "import findspark\n",
    "findspark.init()\n",
    "\n",
    "from pyspark.sql import SparkSession\n",
    "\n",
    "spark = SparkSession.builder.appName(\"sample\").master(\"local[*]\").getOrCreate()\n",
    "spark.conf.set(\"spark.sql.repl.eagerEval.enabled\", True)"
   ]
  },
  {
   "cell_type": "code",
   "execution_count": 2,
   "metadata": {},
   "outputs": [],
   "source": [
    "emp = spark.read.format(\"csv\").option(\"header\",\"true\").load(\"C:/Users/b2en/Downloads/Spark 실습/실습문제_20210324/data/emp.csv\")\n",
    "amt_sal = spark.read.format(\"csv\").option(\"header\",\"true\").load(\"C:/Users/b2en/Downloads/Spark 실습/실습문제_20210324/data/금액제급여.csv\")\n",
    "hobong_sal = spark.read.format(\"csv\").option(\"header\",\"true\").load(\"C:/Users/b2en/Downloads/Spark 실습/실습문제_20210324/data/호봉제급여.csv\")\n",
    "yearly_sal = spark.read.format(\"csv\").option(\"header\",\"true\").load(\"C:/Users/b2en/Downloads/Spark 실습/실습문제_20210324/data/연봉제급여.csv\")\n",
    "sal_pay = spark.read.format(\"csv\").option(\"header\",\"true\").load(\"C:/Users/b2en/Downloads/Spark 실습/실습문제_20210324/data/급여지급.csv\")\n",
    "bonus_sal = spark.read.format(\"csv\").option(\"header\",\"true\").load(\"C:/Users/b2en/Downloads/Spark 실습/실습문제_20210324/data/기타급여.csv\")\n",
    "iss_hist = spark.read.format(\"csv\").option(\"header\",\"true\").load(\"C:/Users/b2en/Downloads/Spark 실습/실습문제_20210324/data/발령이력.csv\")\n",
    "dept = spark.read.format(\"csv\").option(\"header\",\"true\").load(\"C:/Users/b2en/Downloads/Spark 실습/실습문제_20210324/data/부서.csv\")\n",
    "pjt = spark.read.format(\"csv\").option(\"header\",\"true\").load(\"C:/Users/b2en/Downloads/Spark 실습/실습문제_20210324/data/프로젝트.csv\")\n",
    "pjt_use_hist = spark.read.format(\"csv\").option(\"header\",\"true\").load(\"C:/Users/b2en/Downloads/Spark 실습/실습문제_20210324/data/프로젝트투입이력.csv\")\n",
    "vc_use_hist = spark.read.format(\"csv\").option(\"header\",\"true\").load(\"C:/Users/b2en/Downloads/Spark 실습/실습문제_20210324/data/휴가사용이력.csv\")"
   ]
  },
  {
   "cell_type": "code",
   "execution_count": 3,
   "metadata": {},
   "outputs": [],
   "source": [
    "from pyspark.sql.functions import *\n",
    "from pyspark.sql.window import *"
   ]
  },
  {
   "cell_type": "markdown",
   "metadata": {},
   "source": [
    "- 월별 평균 급여지급 합계를 구하시오. (단, 이미 퇴사한 직원의 급여는 계산에서 제외)\n",
    "- 월별 퇴사자/입사자 수를 구하시오.\n",
    "- 월별 휴가를 사용한 사원의 수를 구하시오. (사원 1명이 휴가 3일 사용한 경우에도 건수는 1로 집계)\n"
   ]
  },
  {
   "cell_type": "code",
   "execution_count": 4,
   "metadata": {},
   "outputs": [],
   "source": [
    "retired= emp.withColumnRenamed(\"퇴사일자\",\"end_date\").where(expr(\"end_date is not null\"))#퇴사자의 사원번호를 얻을 수 있는 데이터프레임"
   ]
  },
  {
   "cell_type": "code",
   "execution_count": 5,
   "metadata": {},
   "outputs": [
    {
     "data": {
      "text/html": [
       "<table border='1'>\n",
       "<tr><th>사원번호</th><th>사원명</th><th>부서코드</th><th>직급</th><th>입사일자</th><th>end_date</th><th>급여구분</th><th>월급여</th><th>등록일시</th></tr>\n",
       "<tr><td>102</td><td>한영애</td><td>30</td><td>대리</td><td>2008/05/01 00:00:00</td><td>2010/12/01 00:00:00</td><td>연봉</td><td>1540000</td><td>2008/05/01 14:12:00</td></tr>\n",
       "<tr><td>110</td><td>이선희</td><td>10</td><td>차장</td><td>2000/03/01 00:00:00</td><td>2007/12/01 00:00:00</td><td>호봉</td><td>1790000</td><td>2000/03/01 14:00:00</td></tr>\n",
       "</table>\n"
      ],
      "text/plain": [
       "+--------+------+--------+----+-------------------+-------------------+--------+-------+-------------------+\n",
       "|사원번호|사원명|부서코드|직급|           입사일자|           end_date|급여구분| 월급여|           등록일시|\n",
       "+--------+------+--------+----+-------------------+-------------------+--------+-------+-------------------+\n",
       "|     102|한영애|      30|대리|2008/05/01 00:00:00|2010/12/01 00:00:00|    연봉|1540000|2008/05/01 14:12:00|\n",
       "|     110|이선희|      10|차장|2000/03/01 00:00:00|2007/12/01 00:00:00|    호봉|1790000|2000/03/01 14:00:00|\n",
       "+--------+------+--------+----+-------------------+-------------------+--------+-------+-------------------+"
      ]
     },
     "execution_count": 5,
     "metadata": {},
     "output_type": "execute_result"
    }
   ],
   "source": [
    "retired"
   ]
  },
  {
   "cell_type": "code",
   "execution_count": 7,
   "metadata": {},
   "outputs": [],
   "source": [
    "with_no_retired = sal_pay.join(retired,sal_pay[\"사원번호\"] == retired[\"사원번호\"],\"left_anti\")#퇴사자가 포함되지않은 급여지급 데이터프레임"
   ]
  },
  {
   "cell_type": "code",
   "execution_count": 8,
   "metadata": {},
   "outputs": [
    {
     "data": {
      "text/html": [
       "<table border='1'>\n",
       "<tr><th>급여월</th><th>사원번호</th><th>월급여</th><th>기본급</th><th>수당</th><th>성과급</th></tr>\n",
       "<tr><td>201001</td><td>101</td><td>1400000</td><td>1300000</td><td>100000</td><td>null</td></tr>\n",
       "<tr><td>201001</td><td>103</td><td>1600000</td><td>1300000</td><td>100000</td><td>200000</td></tr>\n",
       "<tr><td>201001</td><td>104</td><td>1680000</td><td>1460000</td><td>220000</td><td>null</td></tr>\n",
       "<tr><td>201001</td><td>105</td><td>1540000</td><td>1440000</td><td>100000</td><td>null</td></tr>\n",
       "<tr><td>201001</td><td>106</td><td>1700000</td><td>1400000</td><td>100000</td><td>200000</td></tr>\n",
       "<tr><td>201001</td><td>107</td><td>1770000</td><td>1550000</td><td>220000</td><td>null</td></tr>\n",
       "<tr><td>201001</td><td>108</td><td>1600000</td><td>1500000</td><td>100000</td><td>null</td></tr>\n",
       "<tr><td>201001</td><td>109</td><td>1470000</td><td>1350000</td><td>120000</td><td>null</td></tr>\n",
       "<tr><td>201001</td><td>111</td><td>1530000</td><td>1530000</td><td>null</td><td>null</td></tr>\n",
       "<tr><td>201001</td><td>112</td><td>1500000</td><td>1400000</td><td>100000</td><td>null</td></tr>\n",
       "<tr><td>201002</td><td>101</td><td>1400000</td><td>1300000</td><td>100000</td><td>null</td></tr>\n",
       "<tr><td>201002</td><td>103</td><td>1600000</td><td>1300000</td><td>100000</td><td>200000</td></tr>\n",
       "<tr><td>201002</td><td>104</td><td>1680000</td><td>1460000</td><td>220000</td><td>null</td></tr>\n",
       "<tr><td>201002</td><td>105</td><td>1540000</td><td>1440000</td><td>100000</td><td>null</td></tr>\n",
       "<tr><td>201002</td><td>106</td><td>1700000</td><td>1400000</td><td>100000</td><td>200000</td></tr>\n",
       "<tr><td>201002</td><td>107</td><td>1770000</td><td>1550000</td><td>220000</td><td>null</td></tr>\n",
       "<tr><td>201002</td><td>108</td><td>1600000</td><td>1500000</td><td>100000</td><td>null</td></tr>\n",
       "<tr><td>201002</td><td>109</td><td>1470000</td><td>1350000</td><td>120000</td><td>null</td></tr>\n",
       "<tr><td>201002</td><td>111</td><td>1530000</td><td>1530000</td><td>null</td><td>null</td></tr>\n",
       "<tr><td>201002</td><td>112</td><td>1500000</td><td>1400000</td><td>100000</td><td>null</td></tr>\n",
       "</table>\n",
       "only showing top 20 rows\n"
      ],
      "text/plain": [
       "+------+--------+-------+-------+------+------+\n",
       "|급여월|사원번호| 월급여| 기본급|  수당|성과급|\n",
       "+------+--------+-------+-------+------+------+\n",
       "|201001|     101|1400000|1300000|100000|  null|\n",
       "|201001|     103|1600000|1300000|100000|200000|\n",
       "|201001|     104|1680000|1460000|220000|  null|\n",
       "|201001|     105|1540000|1440000|100000|  null|\n",
       "|201001|     106|1700000|1400000|100000|200000|\n",
       "|201001|     107|1770000|1550000|220000|  null|\n",
       "|201001|     108|1600000|1500000|100000|  null|\n",
       "|201001|     109|1470000|1350000|120000|  null|\n",
       "|201001|     111|1530000|1530000|  null|  null|\n",
       "|201001|     112|1500000|1400000|100000|  null|\n",
       "|201002|     101|1400000|1300000|100000|  null|\n",
       "|201002|     103|1600000|1300000|100000|200000|\n",
       "|201002|     104|1680000|1460000|220000|  null|\n",
       "|201002|     105|1540000|1440000|100000|  null|\n",
       "|201002|     106|1700000|1400000|100000|200000|\n",
       "|201002|     107|1770000|1550000|220000|  null|\n",
       "|201002|     108|1600000|1500000|100000|  null|\n",
       "|201002|     109|1470000|1350000|120000|  null|\n",
       "|201002|     111|1530000|1530000|  null|  null|\n",
       "|201002|     112|1500000|1400000|100000|  null|\n",
       "+------+--------+-------+-------+------+------+\n",
       "only showing top 20 rows"
      ]
     },
     "execution_count": 8,
     "metadata": {},
     "output_type": "execute_result"
    }
   ],
   "source": [
    "with_no_retired"
   ]
  },
  {
   "cell_type": "code",
   "execution_count": 10,
   "metadata": {},
   "outputs": [],
   "source": [
    "avg_sal_no_retired = with_no_retired.groupBy(\"급여월\").agg(round(avg(\"월급여\"),0).alias(\"평균급여액\")) #퇴사자가 포함되지 않은 월별 평균급여액"
   ]
  },
  {
   "cell_type": "code",
   "execution_count": 24,
   "metadata": {},
   "outputs": [],
   "source": [
    "retired_num = emp.withColumn(\"퇴사일자\",translate(substring(col(\"퇴사일자\"),1,7),'/',''))\\\n",
    "                 .groupBy(col(\"퇴사일자\")).agg(count(\"*\").alias(\"퇴사자수\"))\n",
    "#월별 퇴사자수를 구하는 데이터프레임"
   ]
  },
  {
   "cell_type": "code",
   "execution_count": 27,
   "metadata": {},
   "outputs": [],
   "source": [
    "monthly_vc_use_hist = vc_use_hist.withColumn(\"휴가사용월\",substring(col(\"휴가사용일자\"),1,6))\\\n",
    "                                 .groupBy(col(\"휴가사용월\"),col(\"사원번호\")).agg(countDistinct(\"사원번호\").alias(\"휴가사용사원수\"))\n",
    "#월별 휴가사용사원수를 구하는 데이터프레임"
   ]
  },
  {
   "cell_type": "code",
   "execution_count": 28,
   "metadata": {},
   "outputs": [
    {
     "data": {
      "text/html": [
       "<table border='1'>\n",
       "<tr><th>휴가사용월</th><th>사원번호</th><th>휴가사용사원수</th></tr>\n",
       "<tr><td>201106</td><td>103</td><td>1</td></tr>\n",
       "<tr><td>201011</td><td>109</td><td>1</td></tr>\n",
       "<tr><td>201001</td><td>101</td><td>1</td></tr>\n",
       "<tr><td>201002</td><td>109</td><td>1</td></tr>\n",
       "<tr><td>201105</td><td>108</td><td>1</td></tr>\n",
       "<tr><td>201011</td><td>105</td><td>1</td></tr>\n",
       "<tr><td>201011</td><td>101</td><td>1</td></tr>\n",
       "<tr><td>201008</td><td>102</td><td>1</td></tr>\n",
       "</table>\n"
      ],
      "text/plain": [
       "+----------+--------+--------------+\n",
       "|휴가사용월|사원번호|휴가사용사원수|\n",
       "+----------+--------+--------------+\n",
       "|    201106|     103|             1|\n",
       "|    201011|     109|             1|\n",
       "|    201001|     101|             1|\n",
       "|    201002|     109|             1|\n",
       "|    201105|     108|             1|\n",
       "|    201011|     105|             1|\n",
       "|    201011|     101|             1|\n",
       "|    201008|     102|             1|\n",
       "+----------+--------+--------------+"
      ]
     },
     "execution_count": 28,
     "metadata": {},
     "output_type": "execute_result"
    }
   ],
   "source": [
    "monthly_vc_use_hist"
   ]
  },
  {
   "cell_type": "code",
   "execution_count": 30,
   "metadata": {},
   "outputs": [],
   "source": [
    "homework2_1 = avg_sal_no_retired.join(retired_num,avg_sal_no_retired[\"급여월\"] == retired_num[\"퇴사일자\"],\"left_outer\")\\\n",
    "                                .join(monthly_vc_use_hist,avg_sal_no_retired[\"급여월\"] == monthly_vc_use_hist[\"휴가사용월\"],\"left_outer\")\\\n",
    "                                .groupBy(avg_sal_no_retired[\"급여월\"],avg_sal_no_retired[\"평균급여액\"],retired_num[\"퇴사자수\"])\\\n",
    "                                .agg(sum(monthly_vc_use_hist[\"휴가사용사원수\"]).alias(\"휴가사용사원수\"))\\\n",
    "                                .orderBy(avg_sal_no_retired[\"급여월\"])\n",
    "#급여월별로 휴가사용한 사원수를 모두 더해서 휴가사용사원수를 구한다."
   ]
  },
  {
   "cell_type": "code",
   "execution_count": 32,
   "metadata": {},
   "outputs": [
    {
     "data": {
      "text/html": [
       "<table border='1'>\n",
       "<tr><th>급여월</th><th>평균급여액</th><th>퇴사자수</th><th>휴가사용사원수</th></tr>\n",
       "<tr><td>201001</td><td>1579000.0</td><td>null</td><td>1</td></tr>\n",
       "<tr><td>201002</td><td>1579000.0</td><td>null</td><td>1</td></tr>\n",
       "<tr><td>201003</td><td>1579000.0</td><td>null</td><td>null</td></tr>\n",
       "<tr><td>201004</td><td>1579000.0</td><td>null</td><td>null</td></tr>\n",
       "<tr><td>201005</td><td>1579000.0</td><td>null</td><td>null</td></tr>\n",
       "<tr><td>201006</td><td>1579000.0</td><td>null</td><td>null</td></tr>\n",
       "<tr><td>201007</td><td>1579000.0</td><td>null</td><td>null</td></tr>\n",
       "<tr><td>201008</td><td>1579000.0</td><td>null</td><td>1</td></tr>\n",
       "<tr><td>201009</td><td>1579000.0</td><td>null</td><td>null</td></tr>\n",
       "<tr><td>201010</td><td>1579000.0</td><td>null</td><td>null</td></tr>\n",
       "<tr><td>201011</td><td>1579000.0</td><td>null</td><td>3</td></tr>\n",
       "<tr><td>201012</td><td>1579000.0</td><td>1</td><td>null</td></tr>\n",
       "<tr><td>201101</td><td>1579000.0</td><td>null</td><td>null</td></tr>\n",
       "<tr><td>201102</td><td>1579000.0</td><td>null</td><td>null</td></tr>\n",
       "<tr><td>201103</td><td>1579000.0</td><td>null</td><td>null</td></tr>\n",
       "<tr><td>201104</td><td>1579000.0</td><td>null</td><td>null</td></tr>\n",
       "<tr><td>201105</td><td>1579000.0</td><td>null</td><td>1</td></tr>\n",
       "<tr><td>201106</td><td>1579000.0</td><td>null</td><td>1</td></tr>\n",
       "</table>\n"
      ],
      "text/plain": [
       "+------+----------+--------+--------------+\n",
       "|급여월|평균급여액|퇴사자수|휴가사용사원수|\n",
       "+------+----------+--------+--------------+\n",
       "|201001| 1579000.0|    null|             1|\n",
       "|201002| 1579000.0|    null|             1|\n",
       "|201003| 1579000.0|    null|          null|\n",
       "|201004| 1579000.0|    null|          null|\n",
       "|201005| 1579000.0|    null|          null|\n",
       "|201006| 1579000.0|    null|          null|\n",
       "|201007| 1579000.0|    null|          null|\n",
       "|201008| 1579000.0|    null|             1|\n",
       "|201009| 1579000.0|    null|          null|\n",
       "|201010| 1579000.0|    null|          null|\n",
       "|201011| 1579000.0|    null|             3|\n",
       "|201012| 1579000.0|       1|          null|\n",
       "|201101| 1579000.0|    null|          null|\n",
       "|201102| 1579000.0|    null|          null|\n",
       "|201103| 1579000.0|    null|          null|\n",
       "|201104| 1579000.0|    null|          null|\n",
       "|201105| 1579000.0|    null|             1|\n",
       "|201106| 1579000.0|    null|             1|\n",
       "+------+----------+--------+--------------+"
      ]
     },
     "execution_count": 32,
     "metadata": {},
     "output_type": "execute_result"
    }
   ],
   "source": [
    "homework2_1"
   ]
  },
  {
   "cell_type": "markdown",
   "metadata": {},
   "source": [
    "- 사원별 휴가 사용일수를 구하시오. (휴가를 사용하지 않은 사원도 포함)\n",
    "- 호봉제 사원의 경우, 호봉도 포함\n",
    "- 각 사원별 최초/최종 직급을 포함\n",
    "- 각 사원별 최초 지급된 급여액을 포함\n"
   ]
  },
  {
   "cell_type": "code",
   "execution_count": 46,
   "metadata": {},
   "outputs": [],
   "source": [
    "#필요한 데이터프레임 사원,부서,호봉제급여,휴가사용이력,발령이력,급여지급(emp,dept,hobong_sal,vc_use_hist,iss_hist,sal_pay)\n",
    "bseq_fseq = iss_hist.withColumn(\"RN\",row_number().over(Window.partitionBy(\"사원번호\").orderBy(\"이력순번\")))\\\n",
    "                    .withColumn(\"DESC_RN\",row_number().over(Window.partitionBy(\"사원번호\").orderBy(desc(\"이력순번\"))))\n",
    "#최초순번 최종순번을 포함한 데이터프레임"
   ]
  },
  {
   "cell_type": "code",
   "execution_count": 38,
   "metadata": {},
   "outputs": [
    {
     "data": {
      "text/html": [
       "<table border='1'>\n",
       "<tr><th>사원번호</th><th>이력순번</th><th>발령일자</th><th>직급</th><th>부서코드</th><th>RN</th><th>DESC_RN</th></tr>\n",
       "<tr><td>101</td><td>2</td><td>2010/03/01 00:00:00</td><td>대리</td><td>30</td><td>2</td><td>1</td></tr>\n",
       "<tr><td>101</td><td>1</td><td>2008/03/01 00:00:00</td><td>사원</td><td>30</td><td>1</td><td>2</td></tr>\n",
       "<tr><td>112</td><td>1</td><td>2004/03/01 00:00:00</td><td>과장</td><td>20</td><td>1</td><td>1</td></tr>\n",
       "<tr><td>107</td><td>1</td><td>2001/10/01 00:00:00</td><td>차장</td><td>30</td><td>1</td><td>1</td></tr>\n",
       "<tr><td>110</td><td>1</td><td>2000/03/01 00:00:00</td><td>차장</td><td>10</td><td>1</td><td>1</td></tr>\n",
       "<tr><td>104</td><td>3</td><td>2008/05/01 00:00:00</td><td>과장</td><td>10</td><td>3</td><td>1</td></tr>\n",
       "<tr><td>104</td><td>2</td><td>2005/05/01 00:00:00</td><td>대리</td><td>10</td><td>2</td><td>2</td></tr>\n",
       "<tr><td>104</td><td>1</td><td>2003/05/01 00:00:00</td><td>사원</td><td>10</td><td>1</td><td>3</td></tr>\n",
       "<tr><td>102</td><td>1</td><td>2008/05/01 00:00:00</td><td>대리</td><td>30</td><td>1</td><td>1</td></tr>\n",
       "<tr><td>111</td><td>1</td><td>2003/03/01 00:00:00</td><td>차장</td><td>30</td><td>1</td><td>1</td></tr>\n",
       "<tr><td>103</td><td>2</td><td>2010/12/01 00:00:00</td><td>대리</td><td>20</td><td>2</td><td>1</td></tr>\n",
       "<tr><td>103</td><td>1</td><td>2008/12/01 00:00:00</td><td>사원</td><td>20</td><td>1</td><td>2</td></tr>\n",
       "<tr><td>108</td><td>1</td><td>2001/10/01 00:00:00</td><td>차장</td><td>20</td><td>1</td><td>1</td></tr>\n",
       "<tr><td>106</td><td>1</td><td>2005/09/01 00:00:00</td><td>과장</td><td>10</td><td>1</td><td>1</td></tr>\n",
       "<tr><td>105</td><td>3</td><td>2010/08/01 00:00:00</td><td>과장</td><td>10</td><td>3</td><td>1</td></tr>\n",
       "<tr><td>105</td><td>2</td><td>2007/08/01 00:00:00</td><td>대리</td><td>10</td><td>2</td><td>2</td></tr>\n",
       "<tr><td>105</td><td>1</td><td>2004/08/01 00:00:00</td><td>사원</td><td>10</td><td>1</td><td>3</td></tr>\n",
       "<tr><td>109</td><td>1</td><td>2007/03/01 00:00:00</td><td>대리</td><td>30</td><td>1</td><td>1</td></tr>\n",
       "</table>\n"
      ],
      "text/plain": [
       "+--------+--------+-------------------+----+--------+---+-------+\n",
       "|사원번호|이력순번|           발령일자|직급|부서코드| RN|DESC_RN|\n",
       "+--------+--------+-------------------+----+--------+---+-------+\n",
       "|     101|       2|2010/03/01 00:00:00|대리|      30|  2|      1|\n",
       "|     101|       1|2008/03/01 00:00:00|사원|      30|  1|      2|\n",
       "|     112|       1|2004/03/01 00:00:00|과장|      20|  1|      1|\n",
       "|     107|       1|2001/10/01 00:00:00|차장|      30|  1|      1|\n",
       "|     110|       1|2000/03/01 00:00:00|차장|      10|  1|      1|\n",
       "|     104|       3|2008/05/01 00:00:00|과장|      10|  3|      1|\n",
       "|     104|       2|2005/05/01 00:00:00|대리|      10|  2|      2|\n",
       "|     104|       1|2003/05/01 00:00:00|사원|      10|  1|      3|\n",
       "|     102|       1|2008/05/01 00:00:00|대리|      30|  1|      1|\n",
       "|     111|       1|2003/03/01 00:00:00|차장|      30|  1|      1|\n",
       "|     103|       2|2010/12/01 00:00:00|대리|      20|  2|      1|\n",
       "|     103|       1|2008/12/01 00:00:00|사원|      20|  1|      2|\n",
       "|     108|       1|2001/10/01 00:00:00|차장|      20|  1|      1|\n",
       "|     106|       1|2005/09/01 00:00:00|과장|      10|  1|      1|\n",
       "|     105|       3|2010/08/01 00:00:00|과장|      10|  3|      1|\n",
       "|     105|       2|2007/08/01 00:00:00|대리|      10|  2|      2|\n",
       "|     105|       1|2004/08/01 00:00:00|사원|      10|  1|      3|\n",
       "|     109|       1|2007/03/01 00:00:00|대리|      30|  1|      1|\n",
       "+--------+--------+-------------------+----+--------+---+-------+"
      ]
     },
     "execution_count": 38,
     "metadata": {},
     "output_type": "execute_result"
    }
   ],
   "source": [
    "bseq_lseq"
   ]
  },
  {
   "cell_type": "code",
   "execution_count": 47,
   "metadata": {},
   "outputs": [],
   "source": [
    "brank_frank = bseq_fseq.withColumn(\"최초직급\",when(col(\"RN\") == 1,col(\"직급\")))\\\n",
    "                       .withColumn(\"최종직급\",when(col(\"DESC_RN\") == 1,col(\"직급\")))\\\n",
    "                       .groupBy(col(\"사원번호\")).agg(min(\"최초직급\").alias(\"최초직급\"),min(\"최종직급\").alias(\"최종직급\"))\n",
    "#sql에서는 min(case when rn = 1 then 직급 end) 인 구문을 pyspark에서는 withcolumn으로 when(col(\"RN\") == 1,col(\"직급\"))처럼 열을 추가시켜서\n",
    "#group by.agg에서 min으로 묶어준다."
   ]
  },
  {
   "cell_type": "code",
   "execution_count": 48,
   "metadata": {},
   "outputs": [
    {
     "data": {
      "text/html": [
       "<table border='1'>\n",
       "<tr><th>사원번호</th><th>최초직급</th><th>최종직급</th></tr>\n",
       "<tr><td>101</td><td>사원</td><td>대리</td></tr>\n",
       "<tr><td>112</td><td>과장</td><td>과장</td></tr>\n",
       "<tr><td>107</td><td>차장</td><td>차장</td></tr>\n",
       "<tr><td>110</td><td>차장</td><td>차장</td></tr>\n",
       "<tr><td>104</td><td>사원</td><td>과장</td></tr>\n",
       "<tr><td>102</td><td>대리</td><td>대리</td></tr>\n",
       "<tr><td>111</td><td>차장</td><td>차장</td></tr>\n",
       "<tr><td>103</td><td>사원</td><td>대리</td></tr>\n",
       "<tr><td>108</td><td>차장</td><td>차장</td></tr>\n",
       "<tr><td>106</td><td>과장</td><td>과장</td></tr>\n",
       "<tr><td>105</td><td>사원</td><td>과장</td></tr>\n",
       "<tr><td>109</td><td>대리</td><td>대리</td></tr>\n",
       "</table>\n"
      ],
      "text/plain": [
       "+--------+--------+--------+\n",
       "|사원번호|최초직급|최종직급|\n",
       "+--------+--------+--------+\n",
       "|     101|    사원|    대리|\n",
       "|     112|    과장|    과장|\n",
       "|     107|    차장|    차장|\n",
       "|     110|    차장|    차장|\n",
       "|     104|    사원|    과장|\n",
       "|     102|    대리|    대리|\n",
       "|     111|    차장|    차장|\n",
       "|     103|    사원|    대리|\n",
       "|     108|    차장|    차장|\n",
       "|     106|    과장|    과장|\n",
       "|     105|    사원|    과장|\n",
       "|     109|    대리|    대리|\n",
       "+--------+--------+--------+"
      ]
     },
     "execution_count": 48,
     "metadata": {},
     "output_type": "execute_result"
    }
   ],
   "source": [
    "brank_frank"
   ]
  },
  {
   "cell_type": "code",
   "execution_count": 51,
   "metadata": {},
   "outputs": [],
   "source": [
    "bsal = sal_pay.groupBy(col(\"사원번호\")).agg(min(\"급여월\").alias(\"최초급여월\"),min(\"월급여\").alias(\"최초월급여\"))\n",
    "#급여지급 데이터프레임에서 사원번호별 최초급여월의 급여를 얻어내기위해 사원번호별,최초급여월,월급여를 구하는 데이터프레임"
   ]
  },
  {
   "cell_type": "code",
   "execution_count": 52,
   "metadata": {},
   "outputs": [
    {
     "data": {
      "text/html": [
       "<table border='1'>\n",
       "<tr><th>사원번호</th><th>최초급여월</th><th>최초월급여</th></tr>\n",
       "<tr><td>101</td><td>201001</td><td>1400000</td></tr>\n",
       "<tr><td>112</td><td>201001</td><td>1500000</td></tr>\n",
       "<tr><td>107</td><td>201001</td><td>1770000</td></tr>\n",
       "<tr><td>104</td><td>201001</td><td>1680000</td></tr>\n",
       "<tr><td>102</td><td>201001</td><td>1540000</td></tr>\n",
       "<tr><td>111</td><td>201001</td><td>1530000</td></tr>\n",
       "<tr><td>103</td><td>201001</td><td>1600000</td></tr>\n",
       "<tr><td>108</td><td>201001</td><td>1600000</td></tr>\n",
       "<tr><td>106</td><td>201001</td><td>1700000</td></tr>\n",
       "<tr><td>105</td><td>201001</td><td>1540000</td></tr>\n",
       "<tr><td>109</td><td>201001</td><td>1470000</td></tr>\n",
       "</table>\n"
      ],
      "text/plain": [
       "+--------+----------+----------+\n",
       "|사원번호|최초급여월|최초월급여|\n",
       "+--------+----------+----------+\n",
       "|     101|    201001|   1400000|\n",
       "|     112|    201001|   1500000|\n",
       "|     107|    201001|   1770000|\n",
       "|     104|    201001|   1680000|\n",
       "|     102|    201001|   1540000|\n",
       "|     111|    201001|   1530000|\n",
       "|     103|    201001|   1600000|\n",
       "|     108|    201001|   1600000|\n",
       "|     106|    201001|   1700000|\n",
       "|     105|    201001|   1540000|\n",
       "|     109|    201001|   1470000|\n",
       "+--------+----------+----------+"
      ]
     },
     "execution_count": 52,
     "metadata": {},
     "output_type": "execute_result"
    }
   ],
   "source": [
    "bsal"
   ]
  },
  {
   "cell_type": "code",
   "execution_count": 60,
   "metadata": {},
   "outputs": [],
   "source": [
    "vc_use_num = vc_use_hist.groupBy(col(\"사원번호\")).agg(count(\"휴가사용일자\").alias(\"휴가사용일수\"))\n",
    "#휴가사용이력 데이터프레임에서 사우너번호별 휴가사용일수를 구하는 데이터프레임"
   ]
  },
  {
   "cell_type": "code",
   "execution_count": 61,
   "metadata": {},
   "outputs": [
    {
     "data": {
      "text/html": [
       "<table border='1'>\n",
       "<tr><th>사원번호</th><th>휴가사용일수</th></tr>\n",
       "<tr><td>101</td><td>4</td></tr>\n",
       "<tr><td>102</td><td>4</td></tr>\n",
       "<tr><td>103</td><td>1</td></tr>\n",
       "<tr><td>108</td><td>1</td></tr>\n",
       "<tr><td>105</td><td>1</td></tr>\n",
       "<tr><td>109</td><td>2</td></tr>\n",
       "</table>\n"
      ],
      "text/plain": [
       "+--------+------------+\n",
       "|사원번호|휴가사용일수|\n",
       "+--------+------------+\n",
       "|     101|           4|\n",
       "|     102|           4|\n",
       "|     103|           1|\n",
       "|     108|           1|\n",
       "|     105|           1|\n",
       "|     109|           2|\n",
       "+--------+------------+"
      ]
     },
     "execution_count": 61,
     "metadata": {},
     "output_type": "execute_result"
    }
   ],
   "source": [
    "vc_use_num"
   ]
  },
  {
   "cell_type": "code",
   "execution_count": 67,
   "metadata": {},
   "outputs": [],
   "source": [
    "homework2_2 = emp.join(dept,emp[\"부서코드\"] == dept[\"부서코드\"],\"inner\")\\\n",
    "                 .join(hobong_sal,emp[\"사원번호\"] == hobong_sal[\"사원번호\"],\"left_outer\")\\\n",
    "                 .join(brank_frank,emp[\"사원번호\"] == brank_frank[\"사원번호\"],\"inner\")\\\n",
    "                 .join(bsal,emp[\"사원번호\"] == bsal[\"사원번호\"],\"left_outer\")\\\n",
    "                 .join(vc_use_num,emp[\"사원번호\"] == vc_use_num[\"사원번호\"],\"left_outer\")\\\n",
    "                 .select(emp[\"사원명\"],dept[\"부서명\"],hobong_sal[\"호봉\"],vc_use_num[\"휴가사용일수\"],brank_frank[\"최초직급\"],brank_frank[\"최종직급\"],bsal[\"최초월급여\"])\n",
    "#각 데이터프레임을 사원데이터프레임의 사원번호로 조인한다."
   ]
  },
  {
   "cell_type": "code",
   "execution_count": 68,
   "metadata": {},
   "outputs": [
    {
     "data": {
      "text/html": [
       "<table border='1'>\n",
       "<tr><th>사원명</th><th>부서명</th><th>호봉</th><th>휴가사용일수</th><th>최초직급</th><th>최종직급</th><th>최초월급여</th></tr>\n",
       "<tr><td>조동진</td><td>전산팀</td><td>null</td><td>4</td><td>사원</td><td>대리</td><td>1400000</td></tr>\n",
       "<tr><td>한영애</td><td>전산팀</td><td>null</td><td>4</td><td>대리</td><td>대리</td><td>1540000</td></tr>\n",
       "<tr><td>조규찬</td><td>영업팀</td><td>null</td><td>1</td><td>사원</td><td>대리</td><td>1600000</td></tr>\n",
       "<tr><td>이상은</td><td>인사팀</td><td>null</td><td>null</td><td>사원</td><td>과장</td><td>1680000</td></tr>\n",
       "<tr><td>조덕배</td><td>인사팀</td><td>9</td><td>1</td><td>사원</td><td>과장</td><td>1540000</td></tr>\n",
       "<tr><td>장필순</td><td>인사팀</td><td>8</td><td>null</td><td>과장</td><td>과장</td><td>1700000</td></tr>\n",
       "<tr><td>오석준</td><td>전산팀</td><td>null</td><td>null</td><td>차장</td><td>차장</td><td>1770000</td></tr>\n",
       "<tr><td>이규석</td><td>영업팀</td><td>11</td><td>1</td><td>차장</td><td>차장</td><td>1600000</td></tr>\n",
       "<tr><td>전수경</td><td>전산팀</td><td>null</td><td>2</td><td>대리</td><td>대리</td><td>1470000</td></tr>\n",
       "<tr><td>이선희</td><td>인사팀</td><td>13</td><td>null</td><td>차장</td><td>차장</td><td>null</td></tr>\n",
       "<tr><td>김창완</td><td>전산팀</td><td>null</td><td>null</td><td>차장</td><td>차장</td><td>1530000</td></tr>\n",
       "<tr><td>이현우</td><td>영업팀</td><td>null</td><td>null</td><td>과장</td><td>과장</td><td>1500000</td></tr>\n",
       "</table>\n"
      ],
      "text/plain": [
       "+------+------+----+------------+--------+--------+----------+\n",
       "|사원명|부서명|호봉|휴가사용일수|최초직급|최종직급|최초월급여|\n",
       "+------+------+----+------------+--------+--------+----------+\n",
       "|조동진|전산팀|null|           4|    사원|    대리|   1400000|\n",
       "|한영애|전산팀|null|           4|    대리|    대리|   1540000|\n",
       "|조규찬|영업팀|null|           1|    사원|    대리|   1600000|\n",
       "|이상은|인사팀|null|        null|    사원|    과장|   1680000|\n",
       "|조덕배|인사팀|   9|           1|    사원|    과장|   1540000|\n",
       "|장필순|인사팀|   8|        null|    과장|    과장|   1700000|\n",
       "|오석준|전산팀|null|        null|    차장|    차장|   1770000|\n",
       "|이규석|영업팀|  11|           1|    차장|    차장|   1600000|\n",
       "|전수경|전산팀|null|           2|    대리|    대리|   1470000|\n",
       "|이선희|인사팀|  13|        null|    차장|    차장|      null|\n",
       "|김창완|전산팀|null|        null|    차장|    차장|   1530000|\n",
       "|이현우|영업팀|null|        null|    과장|    과장|   1500000|\n",
       "+------+------+----+------------+--------+--------+----------+"
      ]
     },
     "execution_count": 68,
     "metadata": {},
     "output_type": "execute_result"
    }
   ],
   "source": [
    "homework2_2"
   ]
  }
 ],
 "metadata": {
  "jupytext": {
   "formats": "ipynb,auto:light"
  },
  "kernelspec": {
   "display_name": "Python 3",
   "language": "python",
   "name": "python3"
  },
  "language_info": {
   "codemirror_mode": {
    "name": "ipython",
    "version": 3
   },
   "file_extension": ".py",
   "mimetype": "text/x-python",
   "name": "python",
   "nbconvert_exporter": "python",
   "pygments_lexer": "ipython3",
   "version": "3.6.5"
  }
 },
 "nbformat": 4,
 "nbformat_minor": 2
}
