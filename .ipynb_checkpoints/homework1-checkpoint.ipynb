{
 "cells": [
  {
   "cell_type": "code",
   "execution_count": 98,
   "metadata": {},
   "outputs": [],
   "source": [
    "import findspark\n",
    "findspark.init()\n",
    "\n",
    "from pyspark.sql import SparkSession\n",
    "\n",
    "spark = SparkSession.builder.appName(\"sample\").master(\"local[*]\").getOrCreate()\n",
    "spark.conf.set(\"spark.sql.repl.eagerEval.enabled\", True)"
   ]
  },
  {
   "cell_type": "code",
   "execution_count": 99,
   "metadata": {},
   "outputs": [],
   "source": [
    "emp = spark.read.format(\"csv\").option(\"header\",\"true\").load(\"C:/Users/b2en/Downloads/Spark 실습/실습문제_20210324/data/emp.csv\")\n",
    "amt_sal = spark.read.format(\"csv\").option(\"header\",\"true\").load(\"C:/Users/b2en/Downloads/Spark 실습/실습문제_20210324/data/금액제급여.csv\")\n",
    "hobong_sal = spark.read.format(\"csv\").option(\"header\",\"true\").load(\"C:/Users/b2en/Downloads/Spark 실습/실습문제_20210324/data/호봉제급여.csv\")\n",
    "yearly_sal = spark.read.format(\"csv\").option(\"header\",\"true\").load(\"C:/Users/b2en/Downloads/Spark 실습/실습문제_20210324/data/연봉제급여.csv\")\n",
    "sal_pay = spark.read.format(\"csv\").option(\"header\",\"true\").load(\"C:/Users/b2en/Downloads/Spark 실습/실습문제_20210324/data/급여지급.csv\")\n",
    "bonus_sal = spark.read.format(\"csv\").option(\"header\",\"true\").load(\"C:/Users/b2en/Downloads/Spark 실습/실습문제_20210324/data/기타급여.csv\")\n",
    "iss_hist = spark.read.format(\"csv\").option(\"header\",\"true\").load(\"C:/Users/b2en/Downloads/Spark 실습/실습문제_20210324/data/발령이력.csv\")\n",
    "dept = spark.read.format(\"csv\").option(\"header\",\"true\").load(\"C:/Users/b2en/Downloads/Spark 실습/실습문제_20210324/data/부서.csv\")\n",
    "pjt = spark.read.format(\"csv\").option(\"header\",\"true\").load(\"C:/Users/b2en/Downloads/Spark 실습/실습문제_20210324/data/프로젝트.csv\")\n",
    "pjt_use_hist = spark.read.format(\"csv\").option(\"header\",\"true\").load(\"C:/Users/b2en/Downloads/Spark 실습/실습문제_20210324/data/프로젝트투입이력.csv\")\n",
    "vc_use_hist = spark.read.format(\"csv\").option(\"header\",\"true\").load(\"C:/Users/b2en/Downloads/Spark 실습/실습문제_20210324/data/휴가사용이력.csv\")"
   ]
  },
  {
   "cell_type": "markdown",
   "metadata": {},
   "source": [
    "1.부서별 연봉제/호봉제/금액제 급여를 받는 사원 수   '- 부서, 사원, 연봉제급여, 호봉제급여, 금액제급여 데이터 사용"
   ]
  },
  {
   "cell_type": "code",
   "execution_count": 100,
   "metadata": {},
   "outputs": [],
   "source": [
    "from pyspark.sql.functions import *\n",
    "from pyspark.sql.window import *"
   ]
  },
  {
   "cell_type": "code",
   "execution_count": 246,
   "metadata": {},
   "outputs": [],
   "source": [
    "homework1_1 =\\\n",
    "emp.join(dept,dept[\"부서코드\"] == emp[\"부서코드\"],\"inner\")\\\n",
    "   .join(yearly_sal,yearly_sal[\"사원번호\"] == emp[\"사원번호\"],\"left_outer\")\\\n",
    "   .join(amt_sal,amt_sal[\"사원번호\"] == emp[\"사원번호\"],\"left_outer\")\\\n",
    "   .join(hobong_sal,hobong_sal[\"사원번호\"] == emp[\"사원번호\"],\"left_outer\")\\\n",
    "   .groupBy(emp[\"부서코드\"],dept[\"부서명\"])\\\n",
    "   .agg(count(yearly_sal[\"사원번호\"]).alias(\"연봉제사원수\")\\\n",
    "       ,count(amt_sal[\"사원번호\"]).alias(\"금액제사원수\")\\\n",
    "       ,count(hobong_sal[\"사원번호\"]).alias(\"호봉제사원수\"))\\\n",
    "   .orderBy(emp[\"부서코드\"]) #사원테이블기준으로 부서,연봉제급여,호봉제급여,금액제급여테이블과 조인하여 각각 부서명,사원수를 출력"
   ]
  },
  {
   "cell_type": "code",
   "execution_count": 247,
   "metadata": {},
   "outputs": [
    {
     "data": {
      "text/html": [
       "<table border='1'>\n",
       "<tr><th>부서코드</th><th>부서명</th><th>연봉제사원수</th><th>금액제사원수</th><th>호봉제사원수</th></tr>\n",
       "<tr><td>10</td><td>인사팀</td><td>1</td><td>0</td><td>3</td></tr>\n",
       "<tr><td>20</td><td>영업팀</td><td>0</td><td>2</td><td>1</td></tr>\n",
       "<tr><td>30</td><td>전산팀</td><td>4</td><td>1</td><td>0</td></tr>\n",
       "</table>\n"
      ],
      "text/plain": [
       "+--------+------+------------+------------+------------+\n",
       "|부서코드|부서명|연봉제사원수|금액제사원수|호봉제사원수|\n",
       "+--------+------+------------+------------+------------+\n",
       "|      10|인사팀|           1|           0|           3|\n",
       "|      20|영업팀|           0|           2|           1|\n",
       "|      30|전산팀|           4|           1|           0|\n",
       "+--------+------+------------+------------+------------+"
      ]
     },
     "execution_count": 247,
     "metadata": {},
     "output_type": "execute_result"
    }
   ],
   "source": [
    "homework1_1"
   ]
  },
  {
   "cell_type": "markdown",
   "metadata": {},
   "source": [
    "2.지금까지 가장 많은 급여(누적)를 받은 사원의 최초 직급   '- 급여지급, 사원, 발령이력 데이터 사용"
   ]
  },
  {
   "cell_type": "code",
   "execution_count": 248,
   "metadata": {},
   "outputs": [],
   "source": [
    "min_seq = iss_hist.groupBy(col(\"사원번호\"))\\\n",
    "                  .agg(min(\"이력순번\").alias(\"최초이력순번\")) #이력순번이 최소인 데이터프레임 "
   ]
  },
  {
   "cell_type": "code",
   "execution_count": 249,
   "metadata": {},
   "outputs": [],
   "source": [
    "min_rank =iss_hist.join(min_seq,(iss_hist[\"사원번호\"] == min_seq[\"사원번호\"]) & (iss_hist[\"이력순번\"] == min_seq[\"최초이력순번\"]),\"inner\")\\\n",
    "                  .select(iss_hist[\"사원번호\"],iss_hist[\"직급\"]) #이력순번이 최소인 사원번호와 직급을 출력하는 데이터프레임"
   ]
  },
  {
   "cell_type": "code",
   "execution_count": 250,
   "metadata": {},
   "outputs": [],
   "source": [
    "total_sum = sal_pay.groupBy(col(\"사원번호\"))\\\n",
    "                   .agg(sum(\"월급여\").alias(\"총급여\")) #사원번호의 총급여를 출력하는 데이터프레임"
   ]
  },
  {
   "cell_type": "code",
   "execution_count": 263,
   "metadata": {},
   "outputs": [],
   "source": [
    "no1_result = emp.join(min_rank,emp[\"사원번호\"] == min_rank[\"사원번호\"],\"inner\")\\#이력순번이 최소인 데이터프레임과 사원번호로 조인\n",
    "                .join(total_sum,emp[\"사원번호\"] == total_sum[\"사원번호\"],\"inner\")\\#사원의 총급여 데이터프레임과 사원번호로 조인\n",
    "                .select(emp[\"사원번호\"],emp[\"사원명\"],min_rank[\"직급\"],total_sum[\"총급여\"].cast(\"integer\"))\\\n",
    "                .orderBy(total_sum[\"총급여\"].desc())#총급여를 기준으로 내림차순 정렬"
   ]
  },
  {
   "cell_type": "code",
   "execution_count": 264,
   "metadata": {},
   "outputs": [],
   "source": [
    "homework1_2 = no1_result.select(\"*\").limit(1) #결과중에서 가장 위엣줄출력"
   ]
  },
  {
   "cell_type": "code",
   "execution_count": 265,
   "metadata": {},
   "outputs": [
    {
     "data": {
      "text/html": [
       "<table border='1'>\n",
       "<tr><th>사원번호</th><th>사원명</th><th>직급</th><th>총급여</th></tr>\n",
       "<tr><td>107</td><td>오석준</td><td>차장</td><td>31860000</td></tr>\n",
       "</table>\n"
      ],
      "text/plain": [
       "+--------+------+----+--------+\n",
       "|사원번호|사원명|직급|  총급여|\n",
       "+--------+------+----+--------+\n",
       "|     107|오석준|차장|31860000|\n",
       "+--------+------+----+--------+"
      ]
     },
     "execution_count": 265,
     "metadata": {},
     "output_type": "execute_result"
    }
   ],
   "source": [
    "homework1_2"
   ]
  },
  {
   "cell_type": "markdown",
   "metadata": {},
   "source": [
    "3.각 사원의 직급별 받은 급여의 총 합계 '- 발령이력, 사원, 급여지급 데이터 사용"
   ]
  },
  {
   "cell_type": "code",
   "execution_count": 259,
   "metadata": {},
   "outputs": [],
   "source": [
    "\n",
    "rank_smonth_emonth = \\\n",
    "iss_hist.withColumn(\"발령시작월\",translate(substring(\"발령일자\",1,7),'/',''))\\\n",
    "        .withColumn(\"발령종료월\",coalesce(floor(translate(substring(lead(col(\"발령일자\"))\\\n",
    "                                                               .over(Window.partitionBy(\"사원번호\")\\\n",
    "                                                                           .orderBy(\"발령일자\")),1,7),'/','')-1),lit('999912')))\n",
    "#발령시작월과 발령종료월을 구하는 데이터프레임"
   ]
  },
  {
   "cell_type": "code",
   "execution_count": 232,
   "metadata": {},
   "outputs": [
    {
     "data": {
      "text/html": [
       "<table border='1'>\n",
       "<tr><th>사원번호</th><th>이력순번</th><th>발령일자</th><th>직급</th><th>부서코드</th><th>발령시작월</th><th>발령종료월</th></tr>\n",
       "<tr><td>101</td><td>1</td><td>2008/03/01 00:00:00</td><td>사원</td><td>30</td><td>200803</td><td>201002</td></tr>\n",
       "<tr><td>101</td><td>2</td><td>2010/03/01 00:00:00</td><td>대리</td><td>30</td><td>201003</td><td>999912</td></tr>\n",
       "<tr><td>112</td><td>1</td><td>2004/03/01 00:00:00</td><td>과장</td><td>20</td><td>200403</td><td>999912</td></tr>\n",
       "<tr><td>107</td><td>1</td><td>2001/10/01 00:00:00</td><td>차장</td><td>30</td><td>200110</td><td>999912</td></tr>\n",
       "<tr><td>110</td><td>1</td><td>2000/03/01 00:00:00</td><td>차장</td><td>10</td><td>200003</td><td>999912</td></tr>\n",
       "<tr><td>104</td><td>1</td><td>2003/05/01 00:00:00</td><td>사원</td><td>10</td><td>200305</td><td>200504</td></tr>\n",
       "<tr><td>104</td><td>2</td><td>2005/05/01 00:00:00</td><td>대리</td><td>10</td><td>200505</td><td>200804</td></tr>\n",
       "<tr><td>104</td><td>3</td><td>2008/05/01 00:00:00</td><td>과장</td><td>10</td><td>200805</td><td>999912</td></tr>\n",
       "<tr><td>102</td><td>1</td><td>2008/05/01 00:00:00</td><td>대리</td><td>30</td><td>200805</td><td>999912</td></tr>\n",
       "<tr><td>111</td><td>1</td><td>2003/03/01 00:00:00</td><td>차장</td><td>30</td><td>200303</td><td>999912</td></tr>\n",
       "<tr><td>103</td><td>1</td><td>2008/12/01 00:00:00</td><td>사원</td><td>20</td><td>200812</td><td>201011</td></tr>\n",
       "<tr><td>103</td><td>2</td><td>2010/12/01 00:00:00</td><td>대리</td><td>20</td><td>201012</td><td>999912</td></tr>\n",
       "<tr><td>108</td><td>1</td><td>2001/10/01 00:00:00</td><td>차장</td><td>20</td><td>200110</td><td>999912</td></tr>\n",
       "<tr><td>106</td><td>1</td><td>2005/09/01 00:00:00</td><td>과장</td><td>10</td><td>200509</td><td>999912</td></tr>\n",
       "<tr><td>105</td><td>1</td><td>2004/08/01 00:00:00</td><td>사원</td><td>10</td><td>200408</td><td>200707</td></tr>\n",
       "<tr><td>105</td><td>2</td><td>2007/08/01 00:00:00</td><td>대리</td><td>10</td><td>200708</td><td>201007</td></tr>\n",
       "<tr><td>105</td><td>3</td><td>2010/08/01 00:00:00</td><td>과장</td><td>10</td><td>201008</td><td>999912</td></tr>\n",
       "<tr><td>109</td><td>1</td><td>2007/03/01 00:00:00</td><td>대리</td><td>30</td><td>200703</td><td>999912</td></tr>\n",
       "</table>\n"
      ],
      "text/plain": [
       "DataFrame[사원번호: string, 이력순번: string, 발령일자: string, 직급: string, 부서코드: string, 발령시작월: string, 발령종료월: string]"
      ]
     },
     "execution_count": 232,
     "metadata": {},
     "output_type": "execute_result"
    }
   ],
   "source": [
    "rank_smonth_emonth"
   ]
  },
  {
   "cell_type": "code",
   "execution_count": 260,
   "metadata": {},
   "outputs": [],
   "source": [
    "homework1_3 =\\\n",
    "emp.join(rank_smonth_emonth,emp[\"사원번호\"] == rank_smonth_emonth[\"사원번호\"])\\\n",
    "   .join(sal_pay,(emp[\"사원번호\"] == sal_pay[\"사원번호\"]) & (sal_pay[\"급여월\"].between(rank_smonth_emonth[\"발령시작월\"],rank_smonth_emonth[\"발령종료월\"])))\\\n",
    "   .groupBy(emp[\"사원번호\"],emp[\"사원명\"],rank_smonth_emonth[\"직급\"],rank_smonth_emonth[\"발령시작월\"],rank_smonth_emonth[\"발령종료월\"])\\\n",
    "   .agg(sum(sal_pay[\"월급여\"]).cast(\"integer\").alias(\"직급별급여\"))\\\n",
    "   .orderBy(emp[\"사원번호\"],rank_smonth_emonth[\"직급\"].desc())\n",
    "\"\"\"\n",
    "1.발령일자 데이터프레임과 사원번호로 조인\n",
    "2.급여지급 데이터프레임과 사원번호로 조인,그리고 급여월이 발령시작월과 발령종료월사이에 있는 월급여의 합을 구한다.\n",
    "\"\"\""
   ]
  },
  {
   "cell_type": "code",
   "execution_count": 261,
   "metadata": {},
   "outputs": [
    {
     "data": {
      "text/html": [
       "<table border='1'>\n",
       "<tr><th>사원번호</th><th>사원명</th><th>직급</th><th>발령시작월</th><th>발령종료월</th><th>직급별급여</th></tr>\n",
       "<tr><td>101</td><td>조동진</td><td>사원</td><td>200803</td><td>201002</td><td>2800000</td></tr>\n",
       "<tr><td>101</td><td>조동진</td><td>대리</td><td>201003</td><td>999912</td><td>22400000</td></tr>\n",
       "<tr><td>102</td><td>한영애</td><td>대리</td><td>200805</td><td>999912</td><td>16940000</td></tr>\n",
       "<tr><td>103</td><td>조규찬</td><td>사원</td><td>200812</td><td>201011</td><td>17600000</td></tr>\n",
       "<tr><td>103</td><td>조규찬</td><td>대리</td><td>201012</td><td>999912</td><td>11200000</td></tr>\n",
       "<tr><td>104</td><td>이상은</td><td>과장</td><td>200805</td><td>999912</td><td>30240000</td></tr>\n",
       "<tr><td>105</td><td>조덕배</td><td>대리</td><td>200708</td><td>201007</td><td>10780000</td></tr>\n",
       "<tr><td>105</td><td>조덕배</td><td>과장</td><td>201008</td><td>999912</td><td>16940000</td></tr>\n",
       "<tr><td>106</td><td>장필순</td><td>과장</td><td>200509</td><td>999912</td><td>30600000</td></tr>\n",
       "<tr><td>107</td><td>오석준</td><td>차장</td><td>200110</td><td>999912</td><td>31860000</td></tr>\n",
       "<tr><td>108</td><td>이규석</td><td>차장</td><td>200110</td><td>999912</td><td>28800000</td></tr>\n",
       "<tr><td>109</td><td>전수경</td><td>대리</td><td>200703</td><td>999912</td><td>26460000</td></tr>\n",
       "<tr><td>111</td><td>김창완</td><td>차장</td><td>200303</td><td>999912</td><td>27540000</td></tr>\n",
       "<tr><td>112</td><td>이현우</td><td>과장</td><td>200403</td><td>999912</td><td>27000000</td></tr>\n",
       "</table>\n"
      ],
      "text/plain": [
       "+--------+------+----+----------+----------+----------+\n",
       "|사원번호|사원명|직급|발령시작월|발령종료월|직급별급여|\n",
       "+--------+------+----+----------+----------+----------+\n",
       "|     101|조동진|사원|    200803|    201002|   2800000|\n",
       "|     101|조동진|대리|    201003|    999912|  22400000|\n",
       "|     102|한영애|대리|    200805|    999912|  16940000|\n",
       "|     103|조규찬|사원|    200812|    201011|  17600000|\n",
       "|     103|조규찬|대리|    201012|    999912|  11200000|\n",
       "|     104|이상은|과장|    200805|    999912|  30240000|\n",
       "|     105|조덕배|대리|    200708|    201007|  10780000|\n",
       "|     105|조덕배|과장|    201008|    999912|  16940000|\n",
       "|     106|장필순|과장|    200509|    999912|  30600000|\n",
       "|     107|오석준|차장|    200110|    999912|  31860000|\n",
       "|     108|이규석|차장|    200110|    999912|  28800000|\n",
       "|     109|전수경|대리|    200703|    999912|  26460000|\n",
       "|     111|김창완|차장|    200303|    999912|  27540000|\n",
       "|     112|이현우|과장|    200403|    999912|  27000000|\n",
       "+--------+------+----+----------+----------+----------+"
      ]
     },
     "execution_count": 261,
     "metadata": {},
     "output_type": "execute_result"
    }
   ],
   "source": [
    "homework1_3"
   ]
  }
 ],
 "metadata": {
  "jupytext": {
   "formats": "ipynb,auto:light"
  },
  "kernelspec": {
   "display_name": "Python 3",
   "language": "python",
   "name": "python3"
  },
  "language_info": {
   "codemirror_mode": {
    "name": "ipython",
    "version": 3
   },
   "file_extension": ".py",
   "mimetype": "text/x-python",
   "name": "python",
   "nbconvert_exporter": "python",
   "pygments_lexer": "ipython3",
   "version": "3.6.5"
  }
 },
 "nbformat": 4,
 "nbformat_minor": 2
}
