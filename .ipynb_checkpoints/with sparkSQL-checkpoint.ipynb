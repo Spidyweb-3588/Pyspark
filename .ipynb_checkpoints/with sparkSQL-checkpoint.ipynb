{
 "cells": [
  {
   "cell_type": "code",
   "execution_count": 1,
   "metadata": {},
   "outputs": [],
   "source": [
    "import findspark\n",
    "findspark.init()\n",
    "\n",
    "from pyspark.sql import SparkSession\n",
    "\n",
    "spark = SparkSession.builder.appName(\"sample\").master(\"local[*]\").getOrCreate()\n",
    "spark.conf.set(\"spark.sql.repl.eagerEval.enabled\", True)"
   ]
  },
  {
   "cell_type": "code",
   "execution_count": 4,
   "metadata": {},
   "outputs": [],
   "source": [
    "cnts_prod_mst_20210205 = spark.read.format(\"csv\").option(\"header\",\"true\").load(\"C:/Users/b2en/Downloads/Spark 실습/homework_2/cnts_prod_mst_20210205.csv\")\n",
    "cnts_prod_mst_20210206 = spark.read.format(\"csv\").option(\"header\",\"true\").load(\"C:/Users/b2en/Downloads/Spark 실습/homework_2/cnts_prod_mst_20210206.csv\")\n",
    "cnts_prod_mst_20210207 = spark.read.format(\"csv\").option(\"header\",\"true\").load(\"C:/Users/b2en/Downloads/Spark 실습/homework_2/cnts_prod_mst_20210207.csv\")\n",
    "cnts_prod_mst_20210208 = spark.read.format(\"csv\").option(\"header\",\"true\").load(\"C:/Users/b2en/Downloads/Spark 실습/homework_2/cnts_prod_mst_20210208.csv\")\n",
    "vod_wat_day_20210206 = spark.read.format(\"csv\").option(\"header\",\"true\").load(\"C:/Users/b2en/Downloads/Spark 실습/homework_2/vod_wat_day_20210206.csv\")\n",
    "vod_wat_day_20210207 = spark.read.format(\"csv\").option(\"header\",\"true\").load(\"C:/Users/b2en/Downloads/Spark 실습/homework_2/vod_wat_day_20210207.csv\")"
   ]
  },
  {
   "cell_type": "code",
   "execution_count": 3,
   "metadata": {},
   "outputs": [],
   "source": [
    "from pyspark.sql.functions import *\n",
    "from pyspark.sql.window import *"
   ]
  },
  {
   "cell_type": "code",
   "execution_count": 5,
   "metadata": {},
   "outputs": [],
   "source": [
    "cnts_prod_mst_20210205.createOrReplaceTempView(\"cnts_prod_mst_20210205\")"
   ]
  },
  {
   "cell_type": "code",
   "execution_count": 11,
   "metadata": {},
   "outputs": [],
   "source": [
    "cnts_prod_mst_20210206.createOrReplaceTempView(\"cnts_prod_mst_20210206\")"
   ]
  },
  {
   "cell_type": "code",
   "execution_count": 6,
   "metadata": {},
   "outputs": [
    {
     "data": {
      "text/html": [
       "<table border='1'>\n",
       "<tr><th>STRD_DT</th><th>CNTS_PROD_ID</th><th>CNTS_PROD_NM</th><th>CNTS_PROD_TYP_CD</th><th>PROD_PRC</th><th>SALE_PRC</th><th>USE_YN</th></tr>\n",
       "<tr><td>20210205</td><td>PM50773595</td><td>런닝맨_21.01.17.일_SBS</td><td>10</td><td>1500</td><td>1500</td><td>Y</td></tr>\n",
       "</table>\n"
      ],
      "text/plain": [
       "+--------+------------+----------------------+----------------+--------+--------+------+\n",
       "| STRD_DT|CNTS_PROD_ID|          CNTS_PROD_NM|CNTS_PROD_TYP_CD|PROD_PRC|SALE_PRC|USE_YN|\n",
       "+--------+------------+----------------------+----------------+--------+--------+------+\n",
       "|20210205|  PM50773595|런닝맨_21.01.17.일_SBS|              10|    1500|    1500|     Y|\n",
       "+--------+------------+----------------------+----------------+--------+--------+------+"
      ]
     },
     "execution_count": 6,
     "metadata": {},
     "output_type": "execute_result"
    }
   ],
   "source": [
    "spark.sql(\"SELECT * FROM cnts_prod_mst_20210205\")"
   ]
  },
  {
   "cell_type": "code",
   "execution_count": 7,
   "metadata": {},
   "outputs": [],
   "source": [
    "vod_wat_day_20210206.createOrReplaceTempView(\"vod_wat_day_20210206\")"
   ]
  },
  {
   "cell_type": "code",
   "execution_count": 8,
   "metadata": {},
   "outputs": [
    {
     "data": {
      "text/html": [
       "<table border='1'>\n",
       "<tr><th>STRD_DT</th><th>SVC_MGMT_NUM</th><th>CNTS_PROD_ID</th><th>WAT_CNT</th></tr>\n",
       "<tr><td>20210206</td><td>7000000001</td><td>PM50773595</td><td>1</td></tr>\n",
       "<tr><td>20210206</td><td>7000000002</td><td>PM50773595</td><td>1</td></tr>\n",
       "<tr><td>20210206</td><td>7000000003</td><td>PM50773595</td><td>2</td></tr>\n",
       "</table>\n"
      ],
      "text/plain": [
       "+--------+------------+------------+-------+\n",
       "| STRD_DT|SVC_MGMT_NUM|CNTS_PROD_ID|WAT_CNT|\n",
       "+--------+------------+------------+-------+\n",
       "|20210206|  7000000001|  PM50773595|      1|\n",
       "|20210206|  7000000002|  PM50773595|      1|\n",
       "|20210206|  7000000003|  PM50773595|      2|\n",
       "+--------+------------+------------+-------+"
      ]
     },
     "execution_count": 8,
     "metadata": {},
     "output_type": "execute_result"
    }
   ],
   "source": [
    "spark.sql(\"SELECT * FROM vod_wat_day_20210206\")"
   ]
  },
  {
   "cell_type": "code",
   "execution_count": 10,
   "metadata": {},
   "outputs": [
    {
     "data": {
      "text/html": [
       "<table border='1'>\n",
       "<tr><th>database</th><th>tableName</th><th>isTemporary</th></tr>\n",
       "<tr><td></td><td>cnts_prod_mst_202...</td><td>true</td></tr>\n",
       "<tr><td></td><td>vod_wat_day_20210206</td><td>true</td></tr>\n",
       "</table>\n"
      ],
      "text/plain": [
       "+--------+--------------------+-----------+\n",
       "|database|           tableName|isTemporary|\n",
       "+--------+--------------------+-----------+\n",
       "|        |cnts_prod_mst_202...|       true|\n",
       "|        |vod_wat_day_20210206|       true|\n",
       "+--------+--------------------+-----------+"
      ]
     },
     "execution_count": 10,
     "metadata": {},
     "output_type": "execute_result"
    }
   ],
   "source": [
    "spark.sql(\"SHOW DATABASES\")\n",
    "spark.sql(\"SHOW TABLES\")"
   ]
  },
  {
   "cell_type": "code",
   "execution_count": 14,
   "metadata": {},
   "outputs": [
    {
     "data": {
      "text/html": [
       "<table border='1'>\n",
       "<tr><th>STRD_DT</th><th>SVC_MGMT_NUM</th><th>CNTS_PROD_ID</th><th>CNTS_PROD_NM</th><th>WAT_CNT</th><th>PYFR_YN</th><th>SALE_PRC</th></tr>\n",
       "<tr><td>20210206</td><td>7000000001</td><td>PM50773595</td><td>런닝맨_21.01.17.일_SBS</td><td>1</td><td>Y</td><td>1500</td></tr>\n",
       "<tr><td>20210206</td><td>7000000002</td><td>PM50773595</td><td>런닝맨_21.01.17.일_SBS</td><td>1</td><td>Y</td><td>1500</td></tr>\n",
       "<tr><td>20210206</td><td>7000000003</td><td>PM50773595</td><td>런닝맨_21.01.17.일_SBS</td><td>2</td><td>Y</td><td>1500</td></tr>\n",
       "</table>\n"
      ],
      "text/plain": [
       "+--------+------------+------------+----------------------+-------+-------+--------+\n",
       "| STRD_DT|SVC_MGMT_NUM|CNTS_PROD_ID|          CNTS_PROD_NM|WAT_CNT|PYFR_YN|SALE_PRC|\n",
       "+--------+------------+------------+----------------------+-------+-------+--------+\n",
       "|20210206|  7000000001|  PM50773595|런닝맨_21.01.17.일_SBS|      1|      Y|    1500|\n",
       "|20210206|  7000000002|  PM50773595|런닝맨_21.01.17.일_SBS|      1|      Y|    1500|\n",
       "|20210206|  7000000003|  PM50773595|런닝맨_21.01.17.일_SBS|      2|      Y|    1500|\n",
       "+--------+------------+------------+----------------------+-------+-------+--------+"
      ]
     },
     "execution_count": 14,
     "metadata": {},
     "output_type": "execute_result"
    }
   ],
   "source": [
    "spark.sql(\"SELECT B.STRD_DT\\\n",
    "                 ,B.SVC_MGMT_NUM\\\n",
    "                 ,B.CNTS_PROD_ID\\\n",
    "                 ,A.CNTS_PROD_NM\\\n",
    "                 ,B.WAT_CNT\\\n",
    "                 ,CASE WHEN A.SALE_PRC >= 0 THEN 'Y' ELSE 'N' END as PYFR_YN\\\n",
    "                 ,A.SALE_PRC\\\n",
    "             FROM cnts_prod_mst_20210206 as A\\\n",
    "             INNER JOIN vod_wat_day_20210206 B\\\n",
    "             ON A.cnts_prod_id = B.cnts_prod_id\")"
   ]
  }
 ],
 "metadata": {
  "kernelspec": {
   "display_name": "Python 3",
   "language": "python",
   "name": "python3"
  },
  "language_info": {
   "codemirror_mode": {
    "name": "ipython",
    "version": 3
   },
   "file_extension": ".py",
   "mimetype": "text/x-python",
   "name": "python",
   "nbconvert_exporter": "python",
   "pygments_lexer": "ipython3",
   "version": "3.6.5"
  }
 },
 "nbformat": 4,
 "nbformat_minor": 2
}
