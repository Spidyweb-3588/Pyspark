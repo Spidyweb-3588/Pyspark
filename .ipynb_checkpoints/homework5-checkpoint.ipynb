{
 "cells": [
  {
   "cell_type": "code",
   "execution_count": 1,
   "metadata": {},
   "outputs": [],
   "source": [
    "import findspark\n",
    "findspark.init()\n",
    "\n",
    "from pyspark.sql import SparkSession\n",
    "\n",
    "spark = SparkSession.builder.appName(\"sample\").master(\"local[*]\").getOrCreate()\n",
    "spark.conf.set(\"spark.sql.repl.eagerEval.enabled\", True)"
   ]
  },
  {
   "cell_type": "code",
   "execution_count": 2,
   "metadata": {},
   "outputs": [],
   "source": [
    "emp = spark.read.format(\"csv\").option(\"header\",\"true\").load(\"C:/Users/b2en/Downloads/Spark 실습/실습문제_20210324/data/emp.csv\")\n",
    "amt_sal = spark.read.format(\"csv\").option(\"header\",\"true\").load(\"C:/Users/b2en/Downloads/Spark 실습/실습문제_20210324/data/금액제급여.csv\")\n",
    "hobong_sal = spark.read.format(\"csv\").option(\"header\",\"true\").load(\"C:/Users/b2en/Downloads/Spark 실습/실습문제_20210324/data/호봉제급여.csv\")\n",
    "yearly_sal = spark.read.format(\"csv\").option(\"header\",\"true\").load(\"C:/Users/b2en/Downloads/Spark 실습/실습문제_20210324/data/연봉제급여.csv\")\n",
    "sal_pay = spark.read.format(\"csv\").option(\"header\",\"true\").load(\"C:/Users/b2en/Downloads/Spark 실습/실습문제_20210324/data/급여지급.csv\")\n",
    "bonus_sal = spark.read.format(\"csv\").option(\"header\",\"true\").load(\"C:/Users/b2en/Downloads/Spark 실습/실습문제_20210324/data/기타급여.csv\")\n",
    "iss_hist = spark.read.format(\"csv\").option(\"header\",\"true\").load(\"C:/Users/b2en/Downloads/Spark 실습/실습문제_20210324/data/발령이력.csv\")\n",
    "dept = spark.read.format(\"csv\").option(\"header\",\"true\").load(\"C:/Users/b2en/Downloads/Spark 실습/실습문제_20210324/data/부서.csv\")\n",
    "pjt = spark.read.format(\"csv\").option(\"header\",\"true\").load(\"C:/Users/b2en/Downloads/Spark 실습/실습문제_20210324/data/프로젝트.csv\")\n",
    "pjt_use_hist = spark.read.format(\"csv\").option(\"header\",\"true\").load(\"C:/Users/b2en/Downloads/Spark 실습/실습문제_20210324/data/프로젝트투입이력.csv\")\n",
    "vc_use_hist = spark.read.format(\"csv\").option(\"header\",\"true\").load(\"C:/Users/b2en/Downloads/Spark 실습/실습문제_20210324/data/휴가사용이력.csv\")"
   ]
  },
  {
   "cell_type": "code",
   "execution_count": 3,
   "metadata": {},
   "outputs": [],
   "source": [
    "from pyspark.sql.functions import *\n",
    "from pyspark.sql.window import *"
   ]
  },
  {
   "cell_type": "markdown",
   "metadata": {},
   "source": [
    "[1]\n",
    "-- 프로젝트 / 투입직원수 / 투입직원들의 프로젝트 기간 내 받은 총 급여 / 프로젝트 기간 내 휴가 사용 직원 수 / 휴가 사용 일수\n",
    "-- 발령이력을 기준으로 최종 직급이 과장 이상(과장, 차장)인 직원은 집계 대상에서 제외\n"
   ]
  },
  {
   "cell_type": "code",
   "execution_count": 4,
   "metadata": {},
   "outputs": [],
   "source": [
    "final_rn = iss_hist.withColumn(\"DESC_RN\",row_number().over(Window.partitionBy(\"사원번호\").orderBy(desc(\"이력순번\"))))"
   ]
  },
  {
   "cell_type": "code",
   "execution_count": 5,
   "metadata": {},
   "outputs": [
    {
     "data": {
      "text/html": [
       "<table border='1'>\n",
       "<tr><th>사원번호</th><th>이력순번</th><th>발령일자</th><th>직급</th><th>부서코드</th><th>DESC_RN</th></tr>\n",
       "<tr><td>101</td><td>2</td><td>2010/03/01 00:00:00</td><td>대리</td><td>30</td><td>1</td></tr>\n",
       "<tr><td>101</td><td>1</td><td>2008/03/01 00:00:00</td><td>사원</td><td>30</td><td>2</td></tr>\n",
       "<tr><td>112</td><td>1</td><td>2004/03/01 00:00:00</td><td>과장</td><td>20</td><td>1</td></tr>\n",
       "<tr><td>107</td><td>1</td><td>2001/10/01 00:00:00</td><td>차장</td><td>30</td><td>1</td></tr>\n",
       "<tr><td>110</td><td>1</td><td>2000/03/01 00:00:00</td><td>차장</td><td>10</td><td>1</td></tr>\n",
       "<tr><td>104</td><td>3</td><td>2008/05/01 00:00:00</td><td>과장</td><td>10</td><td>1</td></tr>\n",
       "<tr><td>104</td><td>2</td><td>2005/05/01 00:00:00</td><td>대리</td><td>10</td><td>2</td></tr>\n",
       "<tr><td>104</td><td>1</td><td>2003/05/01 00:00:00</td><td>사원</td><td>10</td><td>3</td></tr>\n",
       "<tr><td>102</td><td>1</td><td>2008/05/01 00:00:00</td><td>대리</td><td>30</td><td>1</td></tr>\n",
       "<tr><td>111</td><td>1</td><td>2003/03/01 00:00:00</td><td>차장</td><td>30</td><td>1</td></tr>\n",
       "<tr><td>103</td><td>2</td><td>2010/12/01 00:00:00</td><td>대리</td><td>20</td><td>1</td></tr>\n",
       "<tr><td>103</td><td>1</td><td>2008/12/01 00:00:00</td><td>사원</td><td>20</td><td>2</td></tr>\n",
       "<tr><td>108</td><td>1</td><td>2001/10/01 00:00:00</td><td>차장</td><td>20</td><td>1</td></tr>\n",
       "<tr><td>106</td><td>1</td><td>2005/09/01 00:00:00</td><td>과장</td><td>10</td><td>1</td></tr>\n",
       "<tr><td>105</td><td>3</td><td>2010/08/01 00:00:00</td><td>과장</td><td>10</td><td>1</td></tr>\n",
       "<tr><td>105</td><td>2</td><td>2007/08/01 00:00:00</td><td>대리</td><td>10</td><td>2</td></tr>\n",
       "<tr><td>105</td><td>1</td><td>2004/08/01 00:00:00</td><td>사원</td><td>10</td><td>3</td></tr>\n",
       "<tr><td>109</td><td>1</td><td>2007/03/01 00:00:00</td><td>대리</td><td>30</td><td>1</td></tr>\n",
       "</table>\n"
      ],
      "text/plain": [
       "+--------+--------+-------------------+----+--------+-------+\n",
       "|사원번호|이력순번|           발령일자|직급|부서코드|DESC_RN|\n",
       "+--------+--------+-------------------+----+--------+-------+\n",
       "|     101|       2|2010/03/01 00:00:00|대리|      30|      1|\n",
       "|     101|       1|2008/03/01 00:00:00|사원|      30|      2|\n",
       "|     112|       1|2004/03/01 00:00:00|과장|      20|      1|\n",
       "|     107|       1|2001/10/01 00:00:00|차장|      30|      1|\n",
       "|     110|       1|2000/03/01 00:00:00|차장|      10|      1|\n",
       "|     104|       3|2008/05/01 00:00:00|과장|      10|      1|\n",
       "|     104|       2|2005/05/01 00:00:00|대리|      10|      2|\n",
       "|     104|       1|2003/05/01 00:00:00|사원|      10|      3|\n",
       "|     102|       1|2008/05/01 00:00:00|대리|      30|      1|\n",
       "|     111|       1|2003/03/01 00:00:00|차장|      30|      1|\n",
       "|     103|       2|2010/12/01 00:00:00|대리|      20|      1|\n",
       "|     103|       1|2008/12/01 00:00:00|사원|      20|      2|\n",
       "|     108|       1|2001/10/01 00:00:00|차장|      20|      1|\n",
       "|     106|       1|2005/09/01 00:00:00|과장|      10|      1|\n",
       "|     105|       3|2010/08/01 00:00:00|과장|      10|      1|\n",
       "|     105|       2|2007/08/01 00:00:00|대리|      10|      2|\n",
       "|     105|       1|2004/08/01 00:00:00|사원|      10|      3|\n",
       "|     109|       1|2007/03/01 00:00:00|대리|      30|      1|\n",
       "+--------+--------+-------------------+----+--------+-------+"
      ]
     },
     "execution_count": 5,
     "metadata": {},
     "output_type": "execute_result"
    }
   ],
   "source": [
    "final_rn"
   ]
  },
  {
   "cell_type": "code",
   "execution_count": 6,
   "metadata": {},
   "outputs": [],
   "source": [
    "no_gwa_cha = emp.join(final_rn,(emp[\"사원번호\"] == final_rn[\"사원번호\"]) & (final_rn[\"DESC_RN\"] == 1),\"left_outer\")\\\n",
    "                .where(~final_rn[\"직급\"].isin(\"과장\",\"차장\"))\\\n",
    "                .select(final_rn[\"사원번호\"])"
   ]
  },
  {
   "cell_type": "code",
   "execution_count": 7,
   "metadata": {},
   "outputs": [
    {
     "data": {
      "text/html": [
       "<table border='1'>\n",
       "<tr><th>사원번호</th></tr>\n",
       "<tr><td>101</td></tr>\n",
       "<tr><td>102</td></tr>\n",
       "<tr><td>103</td></tr>\n",
       "<tr><td>109</td></tr>\n",
       "</table>\n"
      ],
      "text/plain": [
       "+--------+\n",
       "|사원번호|\n",
       "+--------+\n",
       "|     101|\n",
       "|     102|\n",
       "|     103|\n",
       "|     109|\n",
       "+--------+"
      ]
     },
     "execution_count": 7,
     "metadata": {},
     "output_type": "execute_result"
    }
   ],
   "source": [
    "no_gwa_cha"
   ]
  },
  {
   "cell_type": "code",
   "execution_count": 13,
   "metadata": {},
   "outputs": [],
   "source": [
    "term_sal = pjt_use_hist.join(sal_pay,(pjt_use_hist[\"사원번호\"] == sal_pay[\"사원번호\"]) & (sal_pay[\"급여월\"].between(pjt_use_hist[\"투입월\"],pjt_use_hist[\"종료월\"])))\\\n",
    "                       .groupBy(sal_pay[\"사원번호\"]).agg(sum(sal_pay[\"월급여\"]).cast(\"int\").alias(\"기간내급여\"))\n"
   ]
  },
  {
   "cell_type": "code",
   "execution_count": 14,
   "metadata": {},
   "outputs": [
    {
     "data": {
      "text/html": [
       "<table border='1'>\n",
       "<tr><th>사원번호</th><th>기간내급여</th></tr>\n",
       "<tr><td>101</td><td>18200000</td></tr>\n",
       "<tr><td>104</td><td>8400000</td></tr>\n",
       "<tr><td>102</td><td>10780000</td></tr>\n",
       "<tr><td>103</td><td>9600000</td></tr>\n",
       "<tr><td>105</td><td>7700000</td></tr>\n",
       "<tr><td>109</td><td>10290000</td></tr>\n",
       "</table>\n"
      ],
      "text/plain": [
       "+--------+----------+\n",
       "|사원번호|기간내급여|\n",
       "+--------+----------+\n",
       "|     101|  18200000|\n",
       "|     104|   8400000|\n",
       "|     102|  10780000|\n",
       "|     103|   9600000|\n",
       "|     105|   7700000|\n",
       "|     109|  10290000|\n",
       "+--------+----------+"
      ]
     },
     "execution_count": 14,
     "metadata": {},
     "output_type": "execute_result"
    }
   ],
   "source": [
    "term_sal"
   ]
  },
  {
   "cell_type": "code",
   "execution_count": 10,
   "metadata": {},
   "outputs": [],
   "source": [
    "vc_month_usecnt = vc_use_hist.groupBy(col(\"사원번호\"),substring(col(\"휴가사용일자\"),1,6).alias(\"휴가사용월\"))\\\n",
    "                            .agg(count(\"휴가사용일자\").alias(\"휴가사용일수\"))"
   ]
  },
  {
   "cell_type": "code",
   "execution_count": 11,
   "metadata": {},
   "outputs": [
    {
     "data": {
      "text/html": [
       "<table border='1'>\n",
       "<tr><th>사원번호</th><th>휴가사용월</th><th>휴가사용일수</th></tr>\n",
       "<tr><td>102</td><td>201008</td><td>4</td></tr>\n",
       "<tr><td>109</td><td>201002</td><td>1</td></tr>\n",
       "<tr><td>108</td><td>201105</td><td>1</td></tr>\n",
       "<tr><td>109</td><td>201011</td><td>1</td></tr>\n",
       "<tr><td>101</td><td>201011</td><td>1</td></tr>\n",
       "<tr><td>103</td><td>201106</td><td>1</td></tr>\n",
       "<tr><td>101</td><td>201001</td><td>3</td></tr>\n",
       "<tr><td>105</td><td>201011</td><td>1</td></tr>\n",
       "</table>\n"
      ],
      "text/plain": [
       "+--------+----------+------------+\n",
       "|사원번호|휴가사용월|휴가사용일수|\n",
       "+--------+----------+------------+\n",
       "|     102|    201008|           4|\n",
       "|     109|    201002|           1|\n",
       "|     108|    201105|           1|\n",
       "|     109|    201011|           1|\n",
       "|     101|    201011|           1|\n",
       "|     103|    201106|           1|\n",
       "|     101|    201001|           3|\n",
       "|     105|    201011|           1|\n",
       "+--------+----------+------------+"
      ]
     },
     "execution_count": 11,
     "metadata": {},
     "output_type": "execute_result"
    }
   ],
   "source": [
    "vc_month_usecnt"
   ]
  },
  {
   "cell_type": "code",
   "execution_count": 22,
   "metadata": {},
   "outputs": [],
   "source": [
    "homework5_1 =\\\n",
    "pjt_use_hist.join(no_gwa_cha,pjt_use_hist[\"사원번호\"] == no_gwa_cha[\"사원번호\"])\\\n",
    "            .join(term_sal,term_sal[\"사원번호\"] == pjt_use_hist[\"사원번호\"])\\\n",
    "            .join(vc_month_usecnt,(vc_month_usecnt[\"사원번호\"] == pjt_use_hist[\"사원번호\"]) & (vc_month_usecnt[\"휴가사용월\"].between(pjt_use_hist[\"투입월\"],pjt_use_hist[\"종료월\"])),\"left_outer\")\\\n",
    "            .groupBy(pjt_use_hist[\"프로젝트번호\"])\\\n",
    "            .agg(count(pjt_use_hist[\"사원번호\"]).alias(\"투입직원수\"),sum(term_sal[\"기간내급여\"]).alias(\"총급여\"),\\\n",
    "                 count(vc_month_usecnt[\"사원번호\"]).alias(\"휴가사용직원수\"),sum(vc_month_usecnt[\"휴가사용일수\"]).alias(\"휴가사용일수\"))\\\n",
    "            .orderBy(pjt_use_hist[\"프로젝트번호\"])\n",
    "            "
   ]
  },
  {
   "cell_type": "code",
   "execution_count": 23,
   "metadata": {},
   "outputs": [
    {
     "data": {
      "text/html": [
       "<table border='1'>\n",
       "<tr><th>프로젝트번호</th><th>투입직원수</th><th>총급여</th><th>휴가사용직원수</th><th>휴가사용일수</th></tr>\n",
       "<tr><td>A00</td><td>2</td><td>28490000</td><td>2</td><td>4</td></tr>\n",
       "<tr><td>A01</td><td>1</td><td>18200000</td><td>1</td><td>1</td></tr>\n",
       "<tr><td>A02</td><td>1</td><td>10780000</td><td>1</td><td>4</td></tr>\n",
       "<tr><td>A03</td><td>2</td><td>19890000</td><td>1</td><td>1</td></tr>\n",
       "</table>\n"
      ],
      "text/plain": [
       "+------------+----------+--------+--------------+------------+\n",
       "|프로젝트번호|투입직원수|  총급여|휴가사용직원수|휴가사용일수|\n",
       "+------------+----------+--------+--------------+------------+\n",
       "|         A00|         2|28490000|             2|           4|\n",
       "|         A01|         1|18200000|             1|           1|\n",
       "|         A02|         1|10780000|             1|           4|\n",
       "|         A03|         2|19890000|             1|           1|\n",
       "+------------+----------+--------+--------------+------------+"
      ]
     },
     "execution_count": 23,
     "metadata": {},
     "output_type": "execute_result"
    }
   ],
   "source": [
    "homework5_1"
   ]
  },
  {
   "cell_type": "markdown",
   "metadata": {},
   "source": [
    "[2]\n",
    "-- 각 사원별 직급별 급여합계 (단, 급여지급 내역이 존재하지 않는 사원도 포함되어야 함\n"
   ]
  },
  {
   "cell_type": "code",
   "execution_count": 4,
   "metadata": {},
   "outputs": [],
   "source": [
    "iss_smonth_emonth = iss_hist.withColumn(\"발령시작일자\",translate(substring(col(\"발령일자\"),1,7),'/',''))\\\n",
    "                            .withColumn(\"발령종료일자\",coalesce(translate(substring(lead(\"발령일자\").over(Window.partitionBy(\"사원번호\").orderBy(\"발령시작일자\")),1,7),'/','')-1,lit(999912)).cast(\"int\").cast(\"string\"))"
   ]
  },
  {
   "cell_type": "code",
   "execution_count": 5,
   "metadata": {},
   "outputs": [
    {
     "data": {
      "text/html": [
       "<table border='1'>\n",
       "<tr><th>사원번호</th><th>이력순번</th><th>발령일자</th><th>직급</th><th>부서코드</th><th>발령시작일자</th><th>발령종료일자</th></tr>\n",
       "<tr><td>101</td><td>1</td><td>2008/03/01 00:00:00</td><td>사원</td><td>30</td><td>200803</td><td>201002</td></tr>\n",
       "<tr><td>101</td><td>2</td><td>2010/03/01 00:00:00</td><td>대리</td><td>30</td><td>201003</td><td>999912</td></tr>\n",
       "<tr><td>112</td><td>1</td><td>2004/03/01 00:00:00</td><td>과장</td><td>20</td><td>200403</td><td>999912</td></tr>\n",
       "<tr><td>107</td><td>1</td><td>2001/10/01 00:00:00</td><td>차장</td><td>30</td><td>200110</td><td>999912</td></tr>\n",
       "<tr><td>110</td><td>1</td><td>2000/03/01 00:00:00</td><td>차장</td><td>10</td><td>200003</td><td>999912</td></tr>\n",
       "<tr><td>104</td><td>1</td><td>2003/05/01 00:00:00</td><td>사원</td><td>10</td><td>200305</td><td>200504</td></tr>\n",
       "<tr><td>104</td><td>2</td><td>2005/05/01 00:00:00</td><td>대리</td><td>10</td><td>200505</td><td>200804</td></tr>\n",
       "<tr><td>104</td><td>3</td><td>2008/05/01 00:00:00</td><td>과장</td><td>10</td><td>200805</td><td>999912</td></tr>\n",
       "<tr><td>102</td><td>1</td><td>2008/05/01 00:00:00</td><td>대리</td><td>30</td><td>200805</td><td>999912</td></tr>\n",
       "<tr><td>111</td><td>1</td><td>2003/03/01 00:00:00</td><td>차장</td><td>30</td><td>200303</td><td>999912</td></tr>\n",
       "<tr><td>103</td><td>1</td><td>2008/12/01 00:00:00</td><td>사원</td><td>20</td><td>200812</td><td>201011</td></tr>\n",
       "<tr><td>103</td><td>2</td><td>2010/12/01 00:00:00</td><td>대리</td><td>20</td><td>201012</td><td>999912</td></tr>\n",
       "<tr><td>108</td><td>1</td><td>2001/10/01 00:00:00</td><td>차장</td><td>20</td><td>200110</td><td>999912</td></tr>\n",
       "<tr><td>106</td><td>1</td><td>2005/09/01 00:00:00</td><td>과장</td><td>10</td><td>200509</td><td>999912</td></tr>\n",
       "<tr><td>105</td><td>1</td><td>2004/08/01 00:00:00</td><td>사원</td><td>10</td><td>200408</td><td>200707</td></tr>\n",
       "<tr><td>105</td><td>2</td><td>2007/08/01 00:00:00</td><td>대리</td><td>10</td><td>200708</td><td>201007</td></tr>\n",
       "<tr><td>105</td><td>3</td><td>2010/08/01 00:00:00</td><td>과장</td><td>10</td><td>201008</td><td>999912</td></tr>\n",
       "<tr><td>109</td><td>1</td><td>2007/03/01 00:00:00</td><td>대리</td><td>30</td><td>200703</td><td>999912</td></tr>\n",
       "</table>\n"
      ],
      "text/plain": [
       "+--------+--------+-------------------+----+--------+------------+------------+\n",
       "|사원번호|이력순번|           발령일자|직급|부서코드|발령시작일자|발령종료일자|\n",
       "+--------+--------+-------------------+----+--------+------------+------------+\n",
       "|     101|       1|2008/03/01 00:00:00|사원|      30|      200803|      201002|\n",
       "|     101|       2|2010/03/01 00:00:00|대리|      30|      201003|      999912|\n",
       "|     112|       1|2004/03/01 00:00:00|과장|      20|      200403|      999912|\n",
       "|     107|       1|2001/10/01 00:00:00|차장|      30|      200110|      999912|\n",
       "|     110|       1|2000/03/01 00:00:00|차장|      10|      200003|      999912|\n",
       "|     104|       1|2003/05/01 00:00:00|사원|      10|      200305|      200504|\n",
       "|     104|       2|2005/05/01 00:00:00|대리|      10|      200505|      200804|\n",
       "|     104|       3|2008/05/01 00:00:00|과장|      10|      200805|      999912|\n",
       "|     102|       1|2008/05/01 00:00:00|대리|      30|      200805|      999912|\n",
       "|     111|       1|2003/03/01 00:00:00|차장|      30|      200303|      999912|\n",
       "|     103|       1|2008/12/01 00:00:00|사원|      20|      200812|      201011|\n",
       "|     103|       2|2010/12/01 00:00:00|대리|      20|      201012|      999912|\n",
       "|     108|       1|2001/10/01 00:00:00|차장|      20|      200110|      999912|\n",
       "|     106|       1|2005/09/01 00:00:00|과장|      10|      200509|      999912|\n",
       "|     105|       1|2004/08/01 00:00:00|사원|      10|      200408|      200707|\n",
       "|     105|       2|2007/08/01 00:00:00|대리|      10|      200708|      201007|\n",
       "|     105|       3|2010/08/01 00:00:00|과장|      10|      201008|      999912|\n",
       "|     109|       1|2007/03/01 00:00:00|대리|      30|      200703|      999912|\n",
       "+--------+--------+-------------------+----+--------+------------+------------+"
      ]
     },
     "execution_count": 5,
     "metadata": {},
     "output_type": "execute_result"
    }
   ],
   "source": [
    "iss_smonth_emonth"
   ]
  },
  {
   "cell_type": "code",
   "execution_count": 10,
   "metadata": {},
   "outputs": [],
   "source": [
    "homework5_2 = iss_smonth_emonth.join(sal_pay,(iss_smonth_emonth[\"사원번호\"] == sal_pay[\"사원번호\"]) &\\\n",
    "                                    (sal_pay[\"급여월\"].between(iss_smonth_emonth[\"발령시작일자\"],iss_smonth_emonth[\"발령종료일자\"])))\\\n",
    "                               .withColumn(\"사원급여\",when(iss_smonth_emonth[\"직급\"] == '사원',sal_pay[\"월급여\"]))\\\n",
    "                               .withColumn(\"대리급여\",when(iss_smonth_emonth[\"직급\"] == '대리',sal_pay[\"월급여\"]))\\\n",
    "                               .withColumn(\"과장급여\",when(iss_smonth_emonth[\"직급\"] == '과장',sal_pay[\"월급여\"]))\\\n",
    "                               .withColumn(\"차장급여\",when(iss_smonth_emonth[\"직급\"] == '차장',sal_pay[\"월급여\"]))\\\n",
    "                               .groupBy(iss_smonth_emonth[\"사원번호\"])\\\n",
    "                               .agg(sum(\"사원급여\").cast(\"int\").alias(\"사원_급여합\"),sum(\"대리급여\").cast(\"int\").alias(\"대리_급여합\"),\\\n",
    "                                    sum(\"과장급여\").cast(\"int\").alias(\"과장_급여합\"),sum(\"차장급여\").cast(\"int\").alias(\"차장_급여합\"))\n",
    "\n",
    "                 "
   ]
  },
  {
   "cell_type": "code",
   "execution_count": 11,
   "metadata": {},
   "outputs": [
    {
     "data": {
      "text/html": [
       "<table border='1'>\n",
       "<tr><th>사원번호</th><th>사원_급여합</th><th>대리_급여합</th><th>과장_급여합</th><th>차장_급여합</th></tr>\n",
       "<tr><td>101</td><td>2800000</td><td>22400000</td><td>null</td><td>null</td></tr>\n",
       "<tr><td>112</td><td>null</td><td>null</td><td>27000000</td><td>null</td></tr>\n",
       "<tr><td>107</td><td>null</td><td>null</td><td>null</td><td>31860000</td></tr>\n",
       "<tr><td>104</td><td>null</td><td>null</td><td>30240000</td><td>null</td></tr>\n",
       "<tr><td>102</td><td>null</td><td>16940000</td><td>null</td><td>null</td></tr>\n",
       "<tr><td>111</td><td>null</td><td>null</td><td>null</td><td>27540000</td></tr>\n",
       "<tr><td>103</td><td>17600000</td><td>11200000</td><td>null</td><td>null</td></tr>\n",
       "<tr><td>108</td><td>null</td><td>null</td><td>null</td><td>28800000</td></tr>\n",
       "<tr><td>106</td><td>null</td><td>null</td><td>30600000</td><td>null</td></tr>\n",
       "<tr><td>105</td><td>null</td><td>10780000</td><td>16940000</td><td>null</td></tr>\n",
       "<tr><td>109</td><td>null</td><td>26460000</td><td>null</td><td>null</td></tr>\n",
       "</table>\n"
      ],
      "text/plain": [
       "+--------+-----------+-----------+-----------+-----------+\n",
       "|사원번호|사원_급여합|대리_급여합|과장_급여합|차장_급여합|\n",
       "+--------+-----------+-----------+-----------+-----------+\n",
       "|     101|    2800000|   22400000|       null|       null|\n",
       "|     112|       null|       null|   27000000|       null|\n",
       "|     107|       null|       null|       null|   31860000|\n",
       "|     104|       null|       null|   30240000|       null|\n",
       "|     102|       null|   16940000|       null|       null|\n",
       "|     111|       null|       null|       null|   27540000|\n",
       "|     103|   17600000|   11200000|       null|       null|\n",
       "|     108|       null|       null|       null|   28800000|\n",
       "|     106|       null|       null|   30600000|       null|\n",
       "|     105|       null|   10780000|   16940000|       null|\n",
       "|     109|       null|   26460000|       null|       null|\n",
       "+--------+-----------+-----------+-----------+-----------+"
      ]
     },
     "execution_count": 11,
     "metadata": {},
     "output_type": "execute_result"
    }
   ],
   "source": [
    "homework5_2"
   ]
  }
 ],
 "metadata": {
  "jupytext": {
   "formats": "ipynb,auto:light"
  },
  "kernelspec": {
   "display_name": "Python 3",
   "language": "python",
   "name": "python3"
  },
  "language_info": {
   "codemirror_mode": {
    "name": "ipython",
    "version": 3
   },
   "file_extension": ".py",
   "mimetype": "text/x-python",
   "name": "python",
   "nbconvert_exporter": "python",
   "pygments_lexer": "ipython3",
   "version": "3.6.5"
  }
 },
 "nbformat": 4,
 "nbformat_minor": 2
}
